{
 "cells": [
  {
   "cell_type": "code",
   "execution_count": 2,
   "metadata": {},
   "outputs": [],
   "source": [
    "import pandas as pd\n",
    "from rake_nltk import Rake "
   ]
  },
  {
   "cell_type": "code",
   "execution_count": 24,
   "metadata": {},
   "outputs": [],
   "source": [
    "so_dump_processed_file = '../../data/stack-overflow/pandas-preprocessedcode-dataset-part3'\n",
    "processed_stackoverflow_df = pd.read_pickle(so_dump_processed_file)"
   ]
  },
  {
   "cell_type": "code",
   "execution_count": 25,
   "metadata": {},
   "outputs": [
    {
     "data": {
      "text/plain": [
       "Index(['AcceptedAnswerId', 'AnswerCount', 'Body', 'BodyText', 'ClosedDate',\n",
       "       'Code', 'CommentCount', 'CommunityOwnedDate', 'CreationDate',\n",
       "       'FavoriteCount', 'Id', 'LastActivityDate', 'LastEditDate',\n",
       "       'LastEditorDisplayName', 'LastEditorUserId', 'OwnerDisplayName',\n",
       "       'OwnerUserId', 'ParentId', 'PostTypeId', 'PreprocessedCode',\n",
       "       'PreprocessedCode2', 'PreprocessedCode2_1', 'PreprocessedCode3',\n",
       "       'Rake_Proecessed_Title', 'Score', 'Tags', 'Title', 'Unnamed: 0',\n",
       "       'Unnamed: 0.1', 'ViewCount'],\n",
       "      dtype='object')"
      ]
     },
     "execution_count": 25,
     "metadata": {},
     "output_type": "execute_result"
    }
   ],
   "source": [
    "processed_stackoverflow_df.columns"
   ]
  },
  {
   "cell_type": "code",
   "execution_count": 26,
   "metadata": {},
   "outputs": [],
   "source": [
    "def apply_rake_title(df):\n",
    "    try:\n",
    "        r = Rake() # Uses stopwords for english from NLTK, and all puntuation characters.\n",
    "        r.extract_keywords_from_text(df['Title'])\n",
    "        df['Rake_Proecessed_Title'] = ' '.join(r.get_ranked_phrases())\n",
    "    except:\n",
    "        df['Rake_Proecessed_Title'] = df['Title']\n",
    "    \n",
    "    return df"
   ]
  },
  {
   "cell_type": "code",
   "execution_count": 27,
   "metadata": {},
   "outputs": [],
   "source": [
    "processed_stackoverflow_df = processed_stackoverflow_df.apply(apply_rake_title, axis=1)"
   ]
  },
  {
   "cell_type": "code",
   "execution_count": 29,
   "metadata": {},
   "outputs": [
    {
     "data": {
      "text/html": [
       "<div>\n",
       "<style scoped>\n",
       "    .dataframe tbody tr th:only-of-type {\n",
       "        vertical-align: middle;\n",
       "    }\n",
       "\n",
       "    .dataframe tbody tr th {\n",
       "        vertical-align: top;\n",
       "    }\n",
       "\n",
       "    .dataframe thead th {\n",
       "        text-align: right;\n",
       "    }\n",
       "</style>\n",
       "<table border=\"1\" class=\"dataframe\">\n",
       "  <thead>\n",
       "    <tr style=\"text-align: right;\">\n",
       "      <th></th>\n",
       "      <th>Title</th>\n",
       "      <th>Rake_Proecessed_Title</th>\n",
       "    </tr>\n",
       "  </thead>\n",
       "  <tbody>\n",
       "    <tr>\n",
       "      <th>0</th>\n",
       "      <td>append two data frame with pandas</td>\n",
       "      <td>append two data frame pandas</td>\n",
       "    </tr>\n",
       "    <tr>\n",
       "      <th>1</th>\n",
       "      <td>What is the most efficient way to loop through...</td>\n",
       "      <td>efficient way pandas loop dataframes</td>\n",
       "    </tr>\n",
       "    <tr>\n",
       "      <th>2</th>\n",
       "      <td>selecting across multiple columns with python ...</td>\n",
       "      <td>selecting across multiple columns python pandas</td>\n",
       "    </tr>\n",
       "    <tr>\n",
       "      <th>3</th>\n",
       "      <td>Why are pandas merges in python faster than da...</td>\n",
       "      <td>table merges python faster pandas merges r data</td>\n",
       "    </tr>\n",
       "    <tr>\n",
       "      <th>4</th>\n",
       "      <td>Open source Enthought Python alternative</td>\n",
       "      <td>open source enthought python alternative</td>\n",
       "    </tr>\n",
       "    <tr>\n",
       "      <th>...</th>\n",
       "      <td>...</td>\n",
       "      <td>...</td>\n",
       "    </tr>\n",
       "    <tr>\n",
       "      <th>3200</th>\n",
       "      <td>NaN</td>\n",
       "      <td>NaN</td>\n",
       "    </tr>\n",
       "    <tr>\n",
       "      <th>3201</th>\n",
       "      <td>NaN</td>\n",
       "      <td>NaN</td>\n",
       "    </tr>\n",
       "    <tr>\n",
       "      <th>3202</th>\n",
       "      <td>NaN</td>\n",
       "      <td>NaN</td>\n",
       "    </tr>\n",
       "    <tr>\n",
       "      <th>3203</th>\n",
       "      <td>NaN</td>\n",
       "      <td>NaN</td>\n",
       "    </tr>\n",
       "    <tr>\n",
       "      <th>3204</th>\n",
       "      <td>NaN</td>\n",
       "      <td>NaN</td>\n",
       "    </tr>\n",
       "  </tbody>\n",
       "</table>\n",
       "<p>3205 rows × 2 columns</p>\n",
       "</div>"
      ],
      "text/plain": [
       "                                                  Title  \\\n",
       "0                     append two data frame with pandas   \n",
       "1     What is the most efficient way to loop through...   \n",
       "2     selecting across multiple columns with python ...   \n",
       "3     Why are pandas merges in python faster than da...   \n",
       "4              Open source Enthought Python alternative   \n",
       "...                                                 ...   \n",
       "3200                                                NaN   \n",
       "3201                                                NaN   \n",
       "3202                                                NaN   \n",
       "3203                                                NaN   \n",
       "3204                                                NaN   \n",
       "\n",
       "                                Rake_Proecessed_Title  \n",
       "0                        append two data frame pandas  \n",
       "1                efficient way pandas loop dataframes  \n",
       "2     selecting across multiple columns python pandas  \n",
       "3     table merges python faster pandas merges r data  \n",
       "4            open source enthought python alternative  \n",
       "...                                               ...  \n",
       "3200                                              NaN  \n",
       "3201                                              NaN  \n",
       "3202                                              NaN  \n",
       "3203                                              NaN  \n",
       "3204                                              NaN  \n",
       "\n",
       "[3205 rows x 2 columns]"
      ]
     },
     "execution_count": 29,
     "metadata": {},
     "output_type": "execute_result"
    }
   ],
   "source": [
    "processed_stackoverflow_df[['Title', 'Rake_Proecessed_Title']]"
   ]
  },
  {
   "cell_type": "code",
   "execution_count": 30,
   "metadata": {},
   "outputs": [],
   "source": [
    "def apply_rake_bodytext(df):\n",
    "    try:\n",
    "        r = Rake() # Uses stopwords for english from NLTK, and all puntuation characters.\n",
    "        r.extract_keywords_from_text(df['BodyText'])\n",
    "        df['Rake_Proecessed_BodyText'] = ' '.join(r.get_ranked_phrases())\n",
    "    except:\n",
    "        df['Rake_Proecessed_BodyText'] = df['BodyText']\n",
    "    \n",
    "    return df"
   ]
  },
  {
   "cell_type": "code",
   "execution_count": 31,
   "metadata": {},
   "outputs": [],
   "source": [
    "processed_stackoverflow_df = processed_stackoverflow_df.apply(apply_rake_bodytext, axis=1)"
   ]
  },
  {
   "cell_type": "code",
   "execution_count": 32,
   "metadata": {},
   "outputs": [
    {
     "data": {
      "text/html": [
       "<div>\n",
       "<style scoped>\n",
       "    .dataframe tbody tr th:only-of-type {\n",
       "        vertical-align: middle;\n",
       "    }\n",
       "\n",
       "    .dataframe tbody tr th {\n",
       "        vertical-align: top;\n",
       "    }\n",
       "\n",
       "    .dataframe thead th {\n",
       "        text-align: right;\n",
       "    }\n",
       "</style>\n",
       "<table border=\"1\" class=\"dataframe\">\n",
       "  <thead>\n",
       "    <tr style=\"text-align: right;\">\n",
       "      <th></th>\n",
       "      <th>BodyText</th>\n",
       "      <th>Rake_Proecessed_BodyText</th>\n",
       "    </tr>\n",
       "  </thead>\n",
       "  <tbody>\n",
       "    <tr>\n",
       "      <th>0</th>\n",
       "      <td>When I try to merge two dataframes by rows doi...</td>\n",
       "      <td>first data frame starts merge two dataframes d...</td>\n",
       "    </tr>\n",
       "    <tr>\n",
       "      <th>1</th>\n",
       "      <td>I want to perform my own complex operations on...</td>\n",
       "      <td>following msft csv file taken one also retriev...</td>\n",
       "    </tr>\n",
       "    <tr>\n",
       "      <th>2</th>\n",
       "      <td>I have a dataframe df in pandas that was built...</td>\n",
       "      <td>built using pandas indexing .) filter like fil...</td>\n",
       "    </tr>\n",
       "    <tr>\n",
       "      <th>3</th>\n",
       "      <td>I recently came across the pandas library for ...</td>\n",
       "      <td>inherent speed advantage python recently came ...</td>\n",
       "    </tr>\n",
       "    <tr>\n",
       "      <th>4</th>\n",
       "      <td>I used Enthought's python distribution as a gr...</td>\n",
       "      <td>well put together easy install python distribu...</td>\n",
       "    </tr>\n",
       "    <tr>\n",
       "      <th>...</th>\n",
       "      <td>...</td>\n",
       "      <td>...</td>\n",
       "    </tr>\n",
       "    <tr>\n",
       "      <th>3200</th>\n",
       "      <td>Setup\\nBorrowed @ayhan's setup  \\n\\nWithout nu...</td>\n",
       "      <td>timing testing code setup without numpy setup ...</td>\n",
       "    </tr>\n",
       "    <tr>\n",
       "      <th>3201</th>\n",
       "      <td>yet another \"creative\" approach:\\n\\nor much be...</td>\n",
       "      <td>much better variant yet another also borrowed ...</td>\n",
       "    </tr>\n",
       "    <tr>\n",
       "      <th>3202</th>\n",
       "      <td>In pandas 0.20.2 you can do:\\n\\nSo your code b...</td>\n",
       "      <td>pandas 0 code becomes 20 2</td>\n",
       "    </tr>\n",
       "    <tr>\n",
       "      <th>3203</th>\n",
       "      <td>UPDATE: now it parses the clipboard - i.e. no ...</td>\n",
       "      <td>level columns see point 1 ;-) note2 index df w...</td>\n",
       "    </tr>\n",
       "    <tr>\n",
       "      <th>3204</th>\n",
       "      <td>You could use the following code:\\n\\nYou would...</td>\n",
       "      <td>r ). cumprod () 1 division scalarv0 n vector m...</td>\n",
       "    </tr>\n",
       "  </tbody>\n",
       "</table>\n",
       "<p>3205 rows × 2 columns</p>\n",
       "</div>"
      ],
      "text/plain": [
       "                                               BodyText  \\\n",
       "0     When I try to merge two dataframes by rows doi...   \n",
       "1     I want to perform my own complex operations on...   \n",
       "2     I have a dataframe df in pandas that was built...   \n",
       "3     I recently came across the pandas library for ...   \n",
       "4     I used Enthought's python distribution as a gr...   \n",
       "...                                                 ...   \n",
       "3200  Setup\\nBorrowed @ayhan's setup  \\n\\nWithout nu...   \n",
       "3201  yet another \"creative\" approach:\\n\\nor much be...   \n",
       "3202  In pandas 0.20.2 you can do:\\n\\nSo your code b...   \n",
       "3203  UPDATE: now it parses the clipboard - i.e. no ...   \n",
       "3204  You could use the following code:\\n\\nYou would...   \n",
       "\n",
       "                               Rake_Proecessed_BodyText  \n",
       "0     first data frame starts merge two dataframes d...  \n",
       "1     following msft csv file taken one also retriev...  \n",
       "2     built using pandas indexing .) filter like fil...  \n",
       "3     inherent speed advantage python recently came ...  \n",
       "4     well put together easy install python distribu...  \n",
       "...                                                 ...  \n",
       "3200  timing testing code setup without numpy setup ...  \n",
       "3201  much better variant yet another also borrowed ...  \n",
       "3202                         pandas 0 code becomes 20 2  \n",
       "3203  level columns see point 1 ;-) note2 index df w...  \n",
       "3204  r ). cumprod () 1 division scalarv0 n vector m...  \n",
       "\n",
       "[3205 rows x 2 columns]"
      ]
     },
     "execution_count": 32,
     "metadata": {},
     "output_type": "execute_result"
    }
   ],
   "source": [
    "processed_stackoverflow_df[['BodyText', 'Rake_Proecessed_BodyText']]"
   ]
  },
  {
   "cell_type": "code",
   "execution_count": 33,
   "metadata": {},
   "outputs": [],
   "source": [
    "processed_stackoverflow_df.to_pickle(so_dump_processed_file)"
   ]
  },
  {
   "cell_type": "code",
   "execution_count": 34,
   "metadata": {},
   "outputs": [
    {
     "data": {
      "text/plain": [
       "Index(['AcceptedAnswerId', 'AnswerCount', 'Body', 'BodyText', 'ClosedDate',\n",
       "       'Code', 'CommentCount', 'CommunityOwnedDate', 'CreationDate',\n",
       "       'FavoriteCount', 'Id', 'LastActivityDate', 'LastEditDate',\n",
       "       'LastEditorDisplayName', 'LastEditorUserId', 'OwnerDisplayName',\n",
       "       'OwnerUserId', 'ParentId', 'PostTypeId', 'PreprocessedCode',\n",
       "       'PreprocessedCode2', 'PreprocessedCode2_1', 'PreprocessedCode3',\n",
       "       'Rake_Proecessed_Title', 'Score', 'Tags', 'Title', 'Unnamed: 0',\n",
       "       'Unnamed: 0.1', 'ViewCount', 'Rake_Proecessed_BodyText'],\n",
       "      dtype='object')"
      ]
     },
     "execution_count": 34,
     "metadata": {},
     "output_type": "execute_result"
    }
   ],
   "source": [
    "processed_stackoverflow_df.columns"
   ]
  }
 ],
 "metadata": {
  "kernelspec": {
   "display_name": "Python 3",
   "language": "python",
   "name": "python3"
  },
  "language_info": {
   "codemirror_mode": {
    "name": "ipython",
    "version": 3
   },
   "file_extension": ".py",
   "mimetype": "text/x-python",
   "name": "python",
   "nbconvert_exporter": "python",
   "pygments_lexer": "ipython3",
   "version": "3.7.2"
  }
 },
 "nbformat": 4,
 "nbformat_minor": 2
}
