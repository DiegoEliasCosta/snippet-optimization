{
 "cells": [
  {
   "cell_type": "code",
   "execution_count": 3,
   "metadata": {},
   "outputs": [],
   "source": [
    "from bs4 import BeautifulSoup\n",
    "import pandas as pd"
   ]
  },
  {
   "cell_type": "code",
   "execution_count": 1,
   "metadata": {},
   "outputs": [],
   "source": [
    "so_dump_processed_file = '../../data/stack-overflow/pandas-preprocessedcode-dataset-part3'"
   ]
  },
  {
   "cell_type": "code",
   "execution_count": 4,
   "metadata": {},
   "outputs": [],
   "source": [
    "processed_stackoverflow_df = pd.read_pickle(so_dump_processed_file)"
   ]
  },
  {
   "cell_type": "code",
   "execution_count": 20,
   "metadata": {},
   "outputs": [
    {
     "data": {
      "text/html": [
       "<div>\n",
       "<style scoped>\n",
       "    .dataframe tbody tr th:only-of-type {\n",
       "        vertical-align: middle;\n",
       "    }\n",
       "\n",
       "    .dataframe tbody tr th {\n",
       "        vertical-align: top;\n",
       "    }\n",
       "\n",
       "    .dataframe thead th {\n",
       "        text-align: right;\n",
       "    }\n",
       "</style>\n",
       "<table border=\"1\" class=\"dataframe\">\n",
       "  <thead>\n",
       "    <tr style=\"text-align: right;\">\n",
       "      <th></th>\n",
       "      <th>Unnamed: 0</th>\n",
       "      <th>Unnamed: 0.1</th>\n",
       "      <th>AcceptedAnswerId</th>\n",
       "      <th>AnswerCount</th>\n",
       "      <th>Body</th>\n",
       "      <th>ClosedDate</th>\n",
       "      <th>CommentCount</th>\n",
       "      <th>CommunityOwnedDate</th>\n",
       "      <th>CreationDate</th>\n",
       "      <th>FavoriteCount</th>\n",
       "      <th>...</th>\n",
       "      <th>PostTypeId</th>\n",
       "      <th>Score</th>\n",
       "      <th>Tags</th>\n",
       "      <th>Title</th>\n",
       "      <th>ViewCount</th>\n",
       "      <th>Code</th>\n",
       "      <th>PreprocessedCode</th>\n",
       "      <th>PreprocessedCode2</th>\n",
       "      <th>PreprocessedCode2_1</th>\n",
       "      <th>PreprocessedCode3</th>\n",
       "    </tr>\n",
       "  </thead>\n",
       "  <tbody>\n",
       "    <tr>\n",
       "      <th>0</th>\n",
       "      <td>27</td>\n",
       "      <td>27</td>\n",
       "      <td>7779260.0</td>\n",
       "      <td>2.0</td>\n",
       "      <td>&lt;p&gt;When I try to merge two dataframes by rows ...</td>\n",
       "      <td>NaN</td>\n",
       "      <td>7</td>\n",
       "      <td>NaN</td>\n",
       "      <td>2011-10-15T08:21:17.460</td>\n",
       "      <td>4.0</td>\n",
       "      <td>...</td>\n",
       "      <td>1</td>\n",
       "      <td>25</td>\n",
       "      <td>&lt;python&gt;&lt;pandas&gt;</td>\n",
       "      <td>append two data frame with pandas</td>\n",
       "      <td>25479.0</td>\n",
       "      <td>bigdata = data1.append(data2)\\nException: Inde...</td>\n",
       "      <td>bigdata = data1.append(data2)\\nException: Inde...</td>\n",
       "      <td>bigdata = data1.append(data2)\\nException: Inde...</td>\n",
       "      <td>bigdata = data1.append(data2)\\nException: Inde...</td>\n",
       "      <td>bigdata = data1.append(data2)</td>\n",
       "    </tr>\n",
       "  </tbody>\n",
       "</table>\n",
       "<p>1 rows × 28 columns</p>\n",
       "</div>"
      ],
      "text/plain": [
       "   Unnamed: 0  Unnamed: 0.1  AcceptedAnswerId  AnswerCount  \\\n",
       "0          27            27         7779260.0          2.0   \n",
       "\n",
       "                                                Body ClosedDate  CommentCount  \\\n",
       "0  <p>When I try to merge two dataframes by rows ...        NaN             7   \n",
       "\n",
       "  CommunityOwnedDate             CreationDate  FavoriteCount  ...  PostTypeId  \\\n",
       "0                NaN  2011-10-15T08:21:17.460            4.0  ...           1   \n",
       "\n",
       "  Score              Tags                              Title  ViewCount  \\\n",
       "0    25  <python><pandas>  append two data frame with pandas    25479.0   \n",
       "\n",
       "                                                Code  \\\n",
       "0  bigdata = data1.append(data2)\\nException: Inde...   \n",
       "\n",
       "                                    PreprocessedCode  \\\n",
       "0  bigdata = data1.append(data2)\\nException: Inde...   \n",
       "\n",
       "                                   PreprocessedCode2  \\\n",
       "0  bigdata = data1.append(data2)\\nException: Inde...   \n",
       "\n",
       "                                 PreprocessedCode2_1  \\\n",
       "0  bigdata = data1.append(data2)\\nException: Inde...   \n",
       "\n",
       "               PreprocessedCode3  \n",
       "0  bigdata = data1.append(data2)  \n",
       "\n",
       "[1 rows x 28 columns]"
      ]
     },
     "execution_count": 20,
     "metadata": {},
     "output_type": "execute_result"
    }
   ],
   "source": [
    "processed_stackoverflow_df.head(1)"
   ]
  },
  {
   "cell_type": "code",
   "execution_count": 21,
   "metadata": {},
   "outputs": [],
   "source": [
    "def extract_text_from_body(df):\n",
    "    soup = BeautifulSoup(df['Body'], \"html.parser\")\n",
    "    [s.extract() for s in soup('pre')]\n",
    "    df['BodyText'] = soup.getText()\n",
    "    return df\n",
    "    \n",
    "\n",
    "processed_stackoverflow_df = processed_stackoverflow_df.apply(extract_text_from_body, axis=1)"
   ]
  },
  {
   "cell_type": "code",
   "execution_count": 5,
   "metadata": {},
   "outputs": [],
   "source": [
    "output_file = '../../data/stack-overflow/pandas-preprocessedcode-dataset-part3'"
   ]
  },
  {
   "cell_type": "code",
   "execution_count": 31,
   "metadata": {},
   "outputs": [],
   "source": [
    "processed_stackoverflow_df.to_pickle(output_file)"
   ]
  },
  {
   "cell_type": "code",
   "execution_count": 6,
   "metadata": {},
   "outputs": [],
   "source": [
    "processed_stackoverflow_df.to_csv(output_file+'.csv', index=False)"
   ]
  }
 ],
 "metadata": {
  "kernelspec": {
   "display_name": "Python 3",
   "language": "python",
   "name": "python3"
  },
  "language_info": {
   "codemirror_mode": {
    "name": "ipython",
    "version": 3
   },
   "file_extension": ".py",
   "mimetype": "text/x-python",
   "name": "python",
   "nbconvert_exporter": "python",
   "pygments_lexer": "ipython3",
   "version": "3.7.2"
  }
 },
 "nbformat": 4,
 "nbformat_minor": 2
}
