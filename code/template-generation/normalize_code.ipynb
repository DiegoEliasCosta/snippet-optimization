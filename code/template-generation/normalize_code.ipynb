{
 "cells": [
  {
   "cell_type": "markdown",
   "metadata": {},
   "source": [
    "### Normalize code using AST"
   ]
  },
  {
   "cell_type": "code",
   "execution_count": 1,
   "metadata": {},
   "outputs": [],
   "source": [
    "import ast"
   ]
  },
  {
   "cell_type": "markdown",
   "metadata": {},
   "source": [
    "### Visit function node"
   ]
  },
  {
   "cell_type": "code",
   "execution_count": 103,
   "metadata": {},
   "outputs": [],
   "source": [
    "def getCallDetails(node):\n",
    "    elementDict = dict()    \n",
    "    elementDict['fname'] = node.func.attr\n",
    "    elementDict['caller'] = node.func.value.id\n",
    "    fixParams = list()\n",
    "    for p in node.args:\n",
    "        fixParams.append(p.id)\n",
    "    elementDict['fixParams'] = fixParams\n",
    "    optParams = list()\n",
    "    for p in list(node.keywords):\n",
    "        optParam = p.arg+\" = \"\n",
    "        if isinstance(p.value, ast.NameConstant):\n",
    "            optParam = optParam + str(p.value)\n",
    "        if isinstance(p.value, ast.Num):\n",
    "            optParam = optParam + str(p.value.n)\n",
    "        if isinstance(p.value, ast.Name):\n",
    "            optParam = optParam + str(p.value.id)\n",
    "        optParams.append(optParam)\n",
    "    elementDict['optParams'] = optParams\n",
    "    elementDict['nodeType']= \"function_call\"\n",
    "    \n",
    "    return elementDict\n",
    "    \n",
    "def getForDetails(node):\n",
    "    elementDict = dict()\n",
    "    elementDict['collection_name'] = node.iter.id\n",
    "    elementDict['collection_id'] = node.target.id\n",
    "    elementDict['nodeType']= \"for_loop\"\n",
    "    return elementDict"
   ]
  },
  {
   "cell_type": "code",
   "execution_count": 67,
   "metadata": {},
   "outputs": [],
   "source": [
    "def getNormalizedStatments(tree):\n",
    "    statements = dict()\n",
    "    for visting_node in ast.walk(tree):\n",
    "        if isinstance(visting_node, ast.Module):\n",
    "            allNodes = visting_node.body\n",
    "            for node in allNodes:\n",
    "                lineNodes = list()\n",
    "                for vnode in ast.walk(node):\n",
    "                    if isinstance(vnode, ast.Call):\n",
    "                        lineNodes.append(getCallDetails(vnode))\n",
    "                    if isinstance(vnode, ast.For):\n",
    "                        lineNodes.append(getForDetails(vnode))\n",
    "                statements[node.lineno] = lineNodes\n",
    "    return statements"
   ]
  },
  {
   "cell_type": "code",
   "execution_count": 104,
   "metadata": {},
   "outputs": [
    {
     "data": {
      "text/plain": [
       "{1: [{'caller': 'pd',\n",
       "   'fixParams': [],\n",
       "   'fname': 'DataFrame',\n",
       "   'nodeType': 'function_call',\n",
       "   'optParams': []}],\n",
       " 2: [],\n",
       " 3: [{'collection_id': 'file',\n",
       "   'collection_name': 'allFiles',\n",
       "   'nodeType': 'for_loop'},\n",
       "  {'caller': 'pd',\n",
       "   'fixParams': ['file'],\n",
       "   'fname': 'readcsv',\n",
       "   'nodeType': 'function_call',\n",
       "   'optParams': ['indexcol = abc', 'header = 0']}],\n",
       " 5: [{'caller': 'list',\n",
       "   'fixParams': ['df'],\n",
       "   'fname': 'append',\n",
       "   'nodeType': 'function_call',\n",
       "   'optParams': []}],\n",
       " 6: [{'caller': 'pd',\n",
       "   'fixParams': ['list_'],\n",
       "   'fname': 'concat',\n",
       "   'nodeType': 'function_call',\n",
       "   'optParams': []}]}"
      ]
     },
     "execution_count": 104,
     "metadata": {},
     "output_type": "execute_result"
    }
   ],
   "source": [
    "code = \"frame = pd.DataFrame()\\nlist = []\\nfor file in allFiles:\\n\\tdf = pd.readcsv(file,indexcol=abc, header=0)\\nlist.append(df)\\nframe = pd.concat(list_)\"\n",
    "tree = ast.parse(code)\n",
    "\n",
    "getNormalizedStatments(tree)"
   ]
  }
 ],
 "metadata": {
  "kernelspec": {
   "display_name": "Python 3",
   "language": "python",
   "name": "python3"
  },
  "language_info": {
   "codemirror_mode": {
    "name": "ipython",
    "version": 3
   },
   "file_extension": ".py",
   "mimetype": "text/x-python",
   "name": "python",
   "nbconvert_exporter": "python",
   "pygments_lexer": "ipython3",
   "version": "3.5.2"
  }
 },
 "nbformat": 4,
 "nbformat_minor": 2
}
