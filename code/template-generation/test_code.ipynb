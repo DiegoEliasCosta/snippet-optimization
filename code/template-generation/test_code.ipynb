{
 "cells": [
  {
   "cell_type": "code",
   "execution_count": 14,
   "metadata": {},
   "outputs": [
    {
     "name": "stdout",
     "output_type": "stream",
     "text": [
      "'a.txt'\n",
      " sep='\t'\n",
      " use=file\n"
     ]
    }
   ],
   "source": [
    "#### Sample code using String Preprocessing\n",
    "\n",
    "method = \"df.to_csv('a.txt', sep='\\t', use=file)\"\n",
    "s = method.find('.')\n",
    "t = method.find('(')\n",
    "u = method.find(')')\n",
    "api = method[:s]\n",
    "method_name = method[s+1:t]\n",
    "paramsStr = method[t+1:u]\n",
    "params = paramsStr.split(',')\n",
    "\n",
    "for par in params:\n",
    "    print(par)"
   ]
  },
  {
   "cell_type": "markdown",
   "metadata": {},
   "source": [
    "#### Using AST to normalize the code"
   ]
  },
  {
   "cell_type": "code",
   "execution_count": 1,
   "metadata": {},
   "outputs": [],
   "source": [
    "import ast"
   ]
  },
  {
   "cell_type": "code",
   "execution_count": null,
   "metadata": {},
   "outputs": [],
   "source": [
    "# Create a list of nodes which can have blocks\n",
    "# Refer https://docs.python.org/2.4/lib/module-compiler.ast.html\n",
    "# While,TryFinally, TryExcept, For"
   ]
  },
  {
   "cell_type": "code",
   "execution_count": 35,
   "metadata": {},
   "outputs": [],
   "source": [
    "\n",
    "from collections import deque\n",
    "\n",
    "# Class to extract method as well as attribute calls. Each token after '.' is called attribute \n",
    "# be it function call or anything else\n",
    "\n",
    "class AttributeVisitor(ast.NodeVisitor):\n",
    "    def __init__(self):\n",
    "        self._name = deque()\n",
    "        self._pos = -1 \n",
    "    \n",
    "    @property\n",
    "    def name(self):\n",
    "        return '.'.join(self._name)\n",
    "    \n",
    "    @property\n",
    "    def lineno(self):\n",
    "        return self._pos\n",
    "    \n",
    "    @name.deleter\n",
    "    def name(self):\n",
    "        self._name.clear()\n",
    "    \n",
    "    def visit_Name(self, node):\n",
    "        self._pos = node.lineno # line number\n",
    "        self._name.appendleft(node.id)\n",
    "    \n",
    "    def visit_Attribute(self, node):\n",
    "        try:\n",
    "            self._pos = node.lineno # line number\n",
    "            self._name.appendleft(node.attr)\n",
    "            self._name.appendleft(node.value.id)\n",
    "        except AttributeError:\n",
    "            self.generic_visit(node)\n",
    "            \n",
    "def get_all_calls(tree):\n",
    "    all_calls = []\n",
    "    for node in ast.walk(tree):\n",
    "        if isinstance(node, ast.Attribute):\n",
    "            callvisitor = AttributeVisitor()\n",
    "            callvisitor.visit(node)\n",
    "            all_calls.append((callvisitor.name, callvisitor.lineno))\n",
    "    return all_calls\n",
    "\n",
    "# Visitin method calls only\n",
    "class FunctionCallVisitor(ast.NodeVisitor):\n",
    "    def __init__(self):\n",
    "        self._name = deque()\n",
    "        self._pos = -1 \n",
    "    \n",
    "    @property\n",
    "    def name(self):\n",
    "        return '.'.join(self._name)\n",
    "    \n",
    "    @property\n",
    "    def lineno(self):\n",
    "        return self._pos\n",
    "    \n",
    "    @name.deleter\n",
    "    def name(self):\n",
    "        self._name.clear()\n",
    "    \n",
    "    def visit_Name(self, node):\n",
    "        self._pos = node.lineno # line number\n",
    "        self._name.appendleft(node.id)\n",
    "    \n",
    "    def visit_Attribute(self, node):\n",
    "        try:\n",
    "            self._pos = node.lineno # line number\n",
    "            self._name.appendleft(node.attr)\n",
    "            self._name.appendleft(node.value.id)\n",
    "        except AttributeError:\n",
    "            self.generic_visit(node)\n",
    "            \n",
    "def get_func_calls(tree):\n",
    "    func_calls = []\n",
    "    for node in ast.walk(tree):\n",
    "        if isinstance(node, ast.Module):\n",
    "            body = node.body\n",
    "            for items in body:\n",
    "                callvisitor = FunctionCallVisitor()\n",
    "                callvisitor.visit(node)\n",
    "            func_calls.append((callvisitor.name, callvisitor.lineno))\n",
    "    return func_calls"
   ]
  },
  {
   "cell_type": "code",
   "execution_count": 36,
   "metadata": {},
   "outputs": [
    {
     "name": "stdout",
     "output_type": "stream",
     "text": [
      "[('file.pd.readcsv.df.list.pd.DataFrame.frame', 3)]\n"
     ]
    }
   ],
   "source": [
    "code = 'frame = pd.DataFrame()\\nlist = []\\ndf = pd.readcsv(file,indexcol=None, header=0)'\n",
    "tree = ast.parse(code)\n",
    "all_calls = get_func_calls(tree)\n",
    "print(all_calls)\n",
    "\n",
    "#for node in ast.walk(tree):\n",
    " #   if isinstance(node, ast.Module):\n",
    "  #      print('body node')\n",
    "   #     ast.Module.node\n",
    "    #else:\n",
    "     #   print('No module node')\n"
   ]
  }
 ],
 "metadata": {
  "kernelspec": {
   "display_name": "Python 3",
   "language": "python",
   "name": "python3"
  },
  "language_info": {
   "codemirror_mode": {
    "name": "ipython",
    "version": 3
   },
   "file_extension": ".py",
   "mimetype": "text/x-python",
   "name": "python",
   "nbconvert_exporter": "python",
   "pygments_lexer": "ipython3",
   "version": "3.5.2"
  }
 },
 "nbformat": 4,
 "nbformat_minor": 2
}
