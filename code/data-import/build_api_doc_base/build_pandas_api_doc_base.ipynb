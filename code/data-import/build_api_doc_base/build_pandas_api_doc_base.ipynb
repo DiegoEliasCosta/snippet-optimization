{
 "cells": [
  {
   "cell_type": "markdown",
   "metadata": {
    "deletable": true,
    "editable": true
   },
   "source": [
    "#### Buiding pandas API documentation dataset as per following format:\n",
    "#### [Category,  SubCategory, FullyQualifiedName, MethodName, Description]\n",
    "\n",
    "##### Using API documentation from https://pandas.pydata.org/pandas-docs/stable/api.html"
   ]
  },
  {
   "cell_type": "code",
   "execution_count": 2,
   "metadata": {
    "collapsed": true,
    "deletable": true,
    "editable": true
   },
   "outputs": [],
   "source": [
    "from bs4 import BeautifulSoup\n",
    "import pandas as pd\n",
    "import pickle"
   ]
  },
  {
   "cell_type": "code",
   "execution_count": 3,
   "metadata": {
    "collapsed": true,
    "deletable": true,
    "editable": true
   },
   "outputs": [],
   "source": [
    "SEED_API_DOCUMENTATION_FILE = '../../../data/api_doc/pandas/API_Reference_pandas_0_22_0documentation.html'\n",
    "API_DOCUMENTATION_CSV_FILE_NAME = 'api_doc.csv'"
   ]
  },
  {
   "cell_type": "code",
   "execution_count": 4,
   "metadata": {
    "collapsed": false,
    "deletable": true,
    "editable": true
   },
   "outputs": [],
   "source": [
    "df = pd.DataFrame(columns=['Category', 'SubCategory', 'FullyQualifiedName', 'MethodName', 'Description'])\n",
    "loc_id = 0\n",
    "api_file = open(SEED_API_DOCUMENTATION_FILE, 'r')\n",
    "api_html_content = api_file.read()\n",
    "soup = BeautifulSoup(api_html_content, 'html.parser')\n",
    "div_api_reference = soup.find(\"div\", {\"id\": \"api-reference\"})\n",
    "#children = div_api_reference.findChildren()\n",
    "#for child in children:\n",
    "    #print child\n",
    "first_level_divs = div_api_reference.find_all(\"div\", {\"class\": \"section\"}, recursive=False)\n",
    "\n",
    "for first_level_div in first_level_divs:\n",
    "    \n",
    "    #Get the category\n",
    "    #Text comes in unicode string form. Coverting it to python string form\n",
    "    category = first_level_div.find(\"h2\").text.encode('ascii', 'ignore')\n",
    "    second_level_divs = first_level_div.find_all(\"div\", {\"class\": \"section\"}, recursive=False)\n",
    "    for second_level_div in second_level_divs:\n",
    "        subcategory = second_level_div.find(\"h3\").text.encode('ascii', 'ignore')\n",
    "        table_rows = second_level_div.find(\"table\").find(\"tbody\").find_all(\"tr\")\n",
    "        for r in table_rows:\n",
    "            table_datas = r.find_all(\"td\")\n",
    "            fully_qualified_name = table_datas[0].find(\"a\")['title'].encode('ascii', 'ignore')\n",
    "            description = table_datas[1].text.encode('ascii', 'ignore')\n",
    "            method_name = fully_qualified_name[fully_qualified_name.rfind(\".\")+1:].encode('ascii', 'ignore')\n",
    "            df_row = [category, subcategory, fully_qualified_name, method_name, description]\n",
    "            df.loc[loc_id] = df_row\n",
    "            loc_id = loc_id + 1\n",
    "df.to_csv(API_DOCUMENTATION_CSV_FILE_NAME)"
   ]
  },
  {
   "cell_type": "code",
   "execution_count": 5,
   "metadata": {
    "collapsed": false,
    "deletable": true,
    "editable": true
   },
   "outputs": [],
   "source": [
    "def save_object(obj, filename):\n",
    "    with open(filename, 'wb') as output:  # Overwrites any existing file.\n",
    "        pickle.dump(obj, output, pickle.HIGHEST_PROTOCOL)"
   ]
  },
  {
   "cell_type": "code",
   "execution_count": 6,
   "metadata": {
    "collapsed": true,
    "deletable": true,
    "editable": true
   },
   "outputs": [],
   "source": [
    "save_object(df, 'api_doc.pkl')"
   ]
  }
 ],
 "metadata": {
  "kernelspec": {
   "display_name": "Python 2",
   "language": "python",
   "name": "python2"
  },
  "language_info": {
   "codemirror_mode": {
    "name": "ipython",
    "version": 2
   },
   "file_extension": ".py",
   "mimetype": "text/x-python",
   "name": "python",
   "nbconvert_exporter": "python",
   "pygments_lexer": "ipython2",
   "version": "2.7.12"
  }
 },
 "nbformat": 4,
 "nbformat_minor": 2
}
