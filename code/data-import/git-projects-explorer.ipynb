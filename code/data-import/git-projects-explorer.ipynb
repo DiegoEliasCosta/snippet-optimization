{
 "cells": [
  {
   "cell_type": "markdown",
   "metadata": {},
   "source": [
    "\n",
    "\n",
    "### How to get such token? \n",
    "\n",
    "http://ghtorrent.org/services.html\n",
    "\n",
    "\n",
    "token = \"4c26d4b9671e2e574930f87df55bfa4500b85b49\""
   ]
  },
  {
   "cell_type": "markdown",
   "metadata": {},
   "source": [
    "### Querying MongoDB programatically: \n",
    "\n",
    "http://ghtorrent.org/raw.html"
   ]
  }
 ],
 "metadata": {
  "kernelspec": {
   "display_name": "Python 3",
   "language": "python",
   "name": "python3"
  },
  "language_info": {
   "codemirror_mode": {
    "name": "ipython",
    "version": 3
   },
   "file_extension": ".py",
   "mimetype": "text/x-python",
   "name": "python",
   "nbconvert_exporter": "python",
   "pygments_lexer": "ipython3",
   "version": "3.6.3"
  }
 },
 "nbformat": 4,
 "nbformat_minor": 2
}
