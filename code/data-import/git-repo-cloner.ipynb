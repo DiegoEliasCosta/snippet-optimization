{
 "cells": [
  {
   "cell_type": "markdown",
   "metadata": {},
   "source": [
    "#### Import Parent Module"
   ]
  },
  {
   "cell_type": "code",
   "execution_count": null,
   "metadata": {
    "collapsed": true
   },
   "outputs": [],
   "source": [
    "import os\n",
    "import sys\n",
    "module_path = os.path.abspath(os.path.join('..'))\n",
    "if module_path not in sys.path:\n",
    "    sys.path.append(module_path)\n",
    "    \n",
    "from jupyter_notebook import load_parameters"
   ]
  },
  {
   "cell_type": "code",
   "execution_count": 14,
   "metadata": {},
   "outputs": [],
   "source": [
    "from git import Repo\n",
    "import os\n",
    "\n",
    "# home = os.path.expanduser(\"~\")\n",
    "# git_folder = os.path.join(home, 'git_python_projects')"
   ]
  },
  {
   "cell_type": "markdown",
   "metadata": {},
   "source": [
    "#### Read LUIGI Parameters"
   ]
  },
  {
   "cell_type": "code",
   "execution_count": null,
   "metadata": {
    "collapsed": true
   },
   "outputs": [],
   "source": [
    "pars = load_parameters()\n",
    "\n",
    "input_path = pars.get('input')\n",
    "output_path = pars.get('output')"
   ]
  },
  {
   "cell_type": "code",
   "execution_count": null,
   "metadata": {
    "collapsed": true
   },
   "outputs": [],
   "source": [
    "dataset = pd.read_csv(input_path, encoding='ISO-8859-1', error_bad_lines=False, sep=\";\")"
   ]
  },
  {
   "cell_type": "markdown",
   "metadata": {},
   "source": [
    "#### Clone repositories\n",
    "\n",
    "Expects a dataframe with the `url` column of Github python projects."
   ]
  },
  {
   "cell_type": "code",
   "execution_count": 19,
   "metadata": {},
   "outputs": [
    {
     "name": "stdout",
     "output_type": "stream",
     "text": [
      "Folder created\n"
     ]
    },
    {
     "data": {
      "text/plain": [
       "<git.Repo \"C:\\Users\\Artur\\git_test\\vinta_awesome-python\\.git\">"
      ]
     },
     "execution_count": 19,
     "metadata": {},
     "output_type": "execute_result"
    }
   ],
   "source": [
    "# git_url = 'https://github.com/vinta/awesome-python'\n",
    "\n",
    "def clone_repository(df):\n",
    "    \n",
    "    git_url = df['url']\n",
    "    \n",
    "    project_name = git_url.split('https://github.com/')[1] # get last\n",
    "    project_name = project_name.replace('/', '_')\n",
    "\n",
    "    project_folder = os.path.join(git_folder, project_name)\n",
    "\n",
    "    # Here we assume that if a folder has already been created\n",
    "    # the repo has already beeing cloned\n",
    "    if not os.path.exists(project_folder):\n",
    "        os.makedirs(project_folder)\n",
    "        # Clone the repository\n",
    "        Repo.clone_from(git_url, output_path)\n",
    "    \n",
    "\n",
    "# Clone the repository for each row of url in the dataframe\n",
    "dataset.apply(clone_repository, axis=1)        "
   ]
  }
 ],
 "metadata": {
  "kernelspec": {
   "display_name": "Python 3",
   "language": "python",
   "name": "python3"
  },
  "language_info": {
   "codemirror_mode": {
    "name": "ipython",
    "version": 3
   },
   "file_extension": ".py",
   "mimetype": "text/x-python",
   "name": "python",
   "nbconvert_exporter": "python",
   "pygments_lexer": "ipython3",
   "version": "3.6.3"
  }
 },
 "nbformat": 4,
 "nbformat_minor": 2
}
