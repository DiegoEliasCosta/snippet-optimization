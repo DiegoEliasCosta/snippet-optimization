{
 "cells": [
  {
   "cell_type": "markdown",
   "metadata": {},
   "source": [
    "### Luigi Module"
   ]
  },
  {
   "cell_type": "code",
   "execution_count": null,
   "metadata": {
    "collapsed": true
   },
   "outputs": [],
   "source": [
    "import os\n",
    "import sys\n",
    "module_path = os.path.abspath(os.path.join(\"../..\"))\n",
    "if module_path not in sys.path:\n",
    "    sys.path.append(module_path)\n",
    "    \n",
    "from jupyter_notebook import load_parameters \n",
    "\n",
    "pars = load_parameters()\n",
    "\n",
    "input_paths = pars.get('input')\n",
    "output_file = pars.get('output')\n",
    "\n"
   ]
  },
  {
   "cell_type": "code",
   "execution_count": null,
   "metadata": {
    "collapsed": true
   },
   "outputs": [],
   "source": [
    "# import os\n",
    "# results_folder = '../../data/results'\n",
    "\n",
    "# input_paths = {        \n",
    "#     'baseline': os.path.join(results_folder, 'results-baseline'),\n",
    "#     'h1': os.path.join(results_folder, 'results-h1'),\n",
    "#     'h2': os.path.join(results_folder, 'results-h2'),\n",
    "#     'h1h2': os.path.join(results_folder, 'results-h1h2'),\n",
    "# }"
   ]
  },
  {
   "cell_type": "code",
   "execution_count": null,
   "metadata": {
    "collapsed": true
   },
   "outputs": [],
   "source": [
    "# import os\n",
    "# results_folder = '../../data/results'\n",
    "\n",
    "# input_paths = {        \n",
    "#     'baseline': os.path.join(results_folder, 'results-baseline-line'),\n",
    "#     'h1': os.path.join(results_folder, 'results-h1-line'),\n",
    "#     'h2': os.path.join(results_folder, 'results-h2-line'),\n",
    "#     'h1h2': os.path.join(results_folder, 'results-h1h2-line'),\n",
    "# }"
   ]
  },
  {
   "cell_type": "code",
   "execution_count": null,
   "metadata": {
    "collapsed": true
   },
   "outputs": [],
   "source": [
    "import pickle\n",
    "\n",
    "methods = {}\n",
    "\n",
    "for method, file_path in input_paths.items():\n",
    "    \n",
    "    with open(file_path, 'rb') as handle:\n",
    "        result = pickle.load(handle)\n",
    "    \n",
    "    methods[method] = result\n",
    "    \n",
    "print(methods)  "
   ]
  },
  {
   "cell_type": "code",
   "execution_count": null,
   "metadata": {
    "collapsed": true
   },
   "outputs": [],
   "source": [
    "import pandas as pd\n",
    "\n",
    "# Transpose the Dataframe to plot x=Method\n",
    "result = pd.DataFrame(methods).T"
   ]
  },
  {
   "cell_type": "code",
   "execution_count": null,
   "metadata": {
    "collapsed": true
   },
   "outputs": [],
   "source": [
    "import matplotlib.pyplot as plt\n",
    "import pandas as pd \n",
    "import seaborn as sns\n",
    "from matplotlib import rcParams\n",
    "\n",
    "rcParams.update({'figure.autolayout': True})\n",
    "\n",
    "print(plt.style.available)\n",
    "\n",
    "plt.style.use(\"fivethirtyeight\")\n",
    "# plt.style.use(\"ggplot\")\n",
    "\n",
    "fig, axes = plt.subplots(figsize=(10, 6), nrows=1, ncols=1, sharey=True)\n",
    "\n",
    "# axes.set_ylim([0,1])\n",
    "\n",
    "\n",
    "result.plot.bar(ax=axes)\n",
    "# plt.tight_layout()\n",
    "axes.legend(loc=\"lower right\")\n",
    "# plt.show()\n",
    "plt.savefig(os.path.join(output_file + '.pdf'))\n",
    "\n",
    "\n",
    "\n",
    "\n"
   ]
  }
 ],
 "metadata": {
  "kernelspec": {
   "display_name": "Python 3",
   "language": "python",
   "name": "python3"
  },
  "language_info": {
   "codemirror_mode": {
    "name": "ipython",
    "version": 3
   },
   "file_extension": ".py",
   "mimetype": "text/x-python",
   "name": "python",
   "nbconvert_exporter": "python",
   "pygments_lexer": "ipython3",
   "version": "3.6.3"
  }
 },
 "nbformat": 4,
 "nbformat_minor": 2
}
