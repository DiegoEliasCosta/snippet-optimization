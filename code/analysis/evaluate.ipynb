{
 "cells": [
  {
   "cell_type": "markdown",
   "metadata": {},
   "source": [
    "### Luigi Module"
   ]
  },
  {
   "cell_type": "code",
   "execution_count": 1,
   "metadata": {},
   "outputs": [
    {
     "ename": "KeyError",
     "evalue": "'PARS'",
     "output_type": "error",
     "traceback": [
      "\u001b[0;31m---------------------------------------------------------------------------\u001b[0m",
      "\u001b[0;31mKeyError\u001b[0m                                  Traceback (most recent call last)",
      "\u001b[0;32m<ipython-input-1-f782600511bd>\u001b[0m in \u001b[0;36m<module>\u001b[0;34m()\u001b[0m\n\u001b[1;32m      7\u001b[0m \u001b[0;32mfrom\u001b[0m \u001b[0mjupyter_notebook\u001b[0m \u001b[0;32mimport\u001b[0m \u001b[0mload_parameters\u001b[0m\u001b[0;34m\u001b[0m\u001b[0m\n\u001b[1;32m      8\u001b[0m \u001b[0;34m\u001b[0m\u001b[0m\n\u001b[0;32m----> 9\u001b[0;31m \u001b[0mpars\u001b[0m \u001b[0;34m=\u001b[0m \u001b[0mload_parameters\u001b[0m\u001b[0;34m(\u001b[0m\u001b[0;34m)\u001b[0m\u001b[0;34m\u001b[0m\u001b[0m\n\u001b[0m\u001b[1;32m     10\u001b[0m \u001b[0;34m\u001b[0m\u001b[0m\n\u001b[1;32m     11\u001b[0m \u001b[0minput_file\u001b[0m \u001b[0;34m=\u001b[0m \u001b[0mpars\u001b[0m\u001b[0;34m.\u001b[0m\u001b[0mget\u001b[0m\u001b[0;34m(\u001b[0m\u001b[0;34m'input'\u001b[0m\u001b[0;34m)\u001b[0m\u001b[0;34m\u001b[0m\u001b[0m\n",
      "\u001b[0;32m/media/neelesh/Professional/GitRepository/IdentifySolution/snippet-optimization/jupyter_notebook.py\u001b[0m in \u001b[0;36mload_parameters\u001b[0;34m(environment_variable)\u001b[0m\n\u001b[1;32m    108\u001b[0m     \u001b[0;34m:\u001b[0m\u001b[0mreturns\u001b[0m\u001b[0;34m:\u001b[0m \u001b[0ma\u001b[0m \u001b[0mdictionary\u001b[0m \u001b[0;32mwith\u001b[0m \u001b[0mthe\u001b[0m \u001b[0mtask\u001b[0m\u001b[0;31m'\u001b[0m\u001b[0ms\u001b[0m \u001b[0mparameters\u001b[0m\u001b[0;34m.\u001b[0m\u001b[0;34m\u001b[0m\u001b[0m\n\u001b[1;32m    109\u001b[0m     \"\"\"\n\u001b[0;32m--> 110\u001b[0;31m     \u001b[0;32mwith\u001b[0m \u001b[0mopen\u001b[0m\u001b[0;34m(\u001b[0m\u001b[0mos\u001b[0m\u001b[0;34m.\u001b[0m\u001b[0menviron\u001b[0m\u001b[0;34m[\u001b[0m\u001b[0menvironment_variable\u001b[0m\u001b[0;34m]\u001b[0m\u001b[0;34m)\u001b[0m \u001b[0;32mas\u001b[0m \u001b[0mjson_file\u001b[0m\u001b[0;34m:\u001b[0m\u001b[0;34m\u001b[0m\u001b[0m\n\u001b[0m\u001b[1;32m    111\u001b[0m         \u001b[0;32mreturn\u001b[0m \u001b[0mjson\u001b[0m\u001b[0;34m.\u001b[0m\u001b[0mload\u001b[0m\u001b[0;34m(\u001b[0m\u001b[0mjson_file\u001b[0m\u001b[0;34m)\u001b[0m\u001b[0;34m\u001b[0m\u001b[0m\n\u001b[1;32m    112\u001b[0m \u001b[0;34m\u001b[0m\u001b[0m\n",
      "\u001b[0;32m/usr/lib/python3.5/os.py\u001b[0m in \u001b[0;36m__getitem__\u001b[0;34m(self, key)\u001b[0m\n\u001b[1;32m    723\u001b[0m         \u001b[0;32mexcept\u001b[0m \u001b[0mKeyError\u001b[0m\u001b[0;34m:\u001b[0m\u001b[0;34m\u001b[0m\u001b[0m\n\u001b[1;32m    724\u001b[0m             \u001b[0;31m# raise KeyError with the original key value\u001b[0m\u001b[0;34m\u001b[0m\u001b[0;34m\u001b[0m\u001b[0m\n\u001b[0;32m--> 725\u001b[0;31m             \u001b[0;32mraise\u001b[0m \u001b[0mKeyError\u001b[0m\u001b[0;34m(\u001b[0m\u001b[0mkey\u001b[0m\u001b[0;34m)\u001b[0m \u001b[0;32mfrom\u001b[0m \u001b[0;32mNone\u001b[0m\u001b[0;34m\u001b[0m\u001b[0m\n\u001b[0m\u001b[1;32m    726\u001b[0m         \u001b[0;32mreturn\u001b[0m \u001b[0mself\u001b[0m\u001b[0;34m.\u001b[0m\u001b[0mdecodevalue\u001b[0m\u001b[0;34m(\u001b[0m\u001b[0mvalue\u001b[0m\u001b[0;34m)\u001b[0m\u001b[0;34m\u001b[0m\u001b[0m\n\u001b[1;32m    727\u001b[0m \u001b[0;34m\u001b[0m\u001b[0m\n",
      "\u001b[0;31mKeyError\u001b[0m: 'PARS'"
     ]
    }
   ],
   "source": [
    "import os\n",
    "import sys\n",
    "module_path = os.path.abspath(os.path.join(\"../..\"))\n",
    "if module_path not in sys.path:\n",
    "    sys.path.append(module_path)\n",
    "    \n",
    "from jupyter_notebook import load_parameters \n",
    "\n",
    "pars = load_parameters()\n",
    "\n",
    "input_file = pars.get('input')\n",
    "output_file = pars.get('output')\n",
    "\n",
    "# Dealing with multiple outputs\n",
    "\n",
    "dataset = pars.get('dataset')"
   ]
  },
  {
   "cell_type": "code",
   "execution_count": 2,
   "metadata": {},
   "outputs": [],
   "source": [
    "import pandas as pd"
   ]
  },
  {
   "cell_type": "code",
   "execution_count": 3,
   "metadata": {},
   "outputs": [],
   "source": [
    "#input_file = '../../data/stack-overflow/pandas-solutioncode-h1'\n",
    "#output_file = '../../data/stack-overflow/result1.txt'\n",
    "#dataset = '../../data/stack-overflow/Dataset - Pandas.csv'\n",
    "dataset = pd.read_csv(dataset, encoding='ISO-8859-1', error_bad_lines=False)\n",
    "\n",
    "result_df = pd.read_pickle(input_file)\n"
   ]
  },
  {
   "cell_type": "code",
   "execution_count": 4,
   "metadata": {},
   "outputs": [],
   "source": [
    "def buildTaggedDatasetDSForEvaluation(tagged_dataset_df):\n",
    "    taggedDSEvalDict = dict()\n",
    "    try:\n",
    "        for index, row in tagged_dataset_df.iterrows():\n",
    "            Id = row['AnswerId']\n",
    "            if Id != 0:\n",
    "                \n",
    "                if Id in taggedDSEvalDict:\n",
    "                    solutionList = taggedDSEvalDict[Id]\n",
    "                else:\n",
    "                    solutionList = list()                    \n",
    "                lineList = list()\n",
    "                lines = row['Solution'].split('\\n')\n",
    "                for line in lines:\n",
    "                    if line.strip() != '':\n",
    "                        pair = [line, False]\n",
    "                        lineList.append(pair)\n",
    "                solutionList.append(lineList)\n",
    "                taggedDSEvalDict[Id]= solutionList\n",
    "        \n",
    "    except Exception as e:\n",
    "        print(e)\n",
    "    return taggedDSEvalDict\n",
    "\n",
    "\n",
    "def buildResultSetForEvaluation(result_df):\n",
    "    resultSetDict = dict()\n",
    "    try:\n",
    "        for index, row in result_df.iterrows():\n",
    "            ansId = row['Id']\n",
    "            solutionLinesTuple = list()                    \n",
    "            predictedLines = row['Solution']\n",
    "            for line in predictedLines:\n",
    "                if line.strip() != '':\n",
    "                    pair = [line, False]\n",
    "                    solutionLinesTuple.append(pair)\n",
    "            resultSetDict[ansId]= solutionLinesTuple\n",
    "        \n",
    "    except Exception as e:\n",
    "        print(ansId, e)\n",
    "    return resultSetDict\n",
    "\n",
    "def markTheLines(taggedDSEvalDict, resultSetDict):\n",
    "    for Id, pairs in resultSetDict.items():\n",
    "        try:\n",
    "            solutionList = taggedDSEvalDict[Id] # Error\n",
    "            for respair in pairs:\n",
    "                for solution in solutionList:\n",
    "                    for tagpair in solution:\n",
    "                        if tagpair[0].strip() == respair[0].strip():\n",
    "                            tagpair[1] = True\n",
    "                            respair[1] = True\n",
    "        except KeyError:\n",
    "            pass # Ignore it for now\n",
    "    return taggedDSEvalDict, resultSetDict"
   ]
  },
  {
   "cell_type": "code",
   "execution_count": 5,
   "metadata": {},
   "outputs": [
    {
     "name": "stdout",
     "output_type": "stream",
     "text": [
      "'float' object has no attribute 'split'\n",
      "0.7081625046589639\n"
     ]
    }
   ],
   "source": [
    "def evaluate(result_df):\n",
    "    TP = 0\n",
    "    FP = 0\n",
    "    taggedDSEvalDict =  buildTaggedDatasetDSForEvaluation(dataset)\n",
    "    resultSetDict = buildResultSetForEvaluation(result_df)\n",
    "    taggedDSEvalDict, resultSetDict = markTheLines(taggedDSEvalDict, resultSetDict)\n",
    "    for Id, pairs in resultSetDict.items():\n",
    "        try:\n",
    "            MA = True\n",
    "            for pair in pairs:\n",
    "                MA = MA and pair[1]\n",
    "            if MA:\n",
    "                MP = False\n",
    "\n",
    "                solutions = taggedDSEvalDict[Id]\n",
    "                for solution in solutions:\n",
    "                    MPS = True\n",
    "                    for tagpair in solution:\n",
    "                        MPS = MPS and tagpair[1]\n",
    "                    MP = MP or MPS\n",
    "                if MP:\n",
    "                    TP = TP + 1\n",
    "                else:\n",
    "                    FP = FP + 1\n",
    "\n",
    "            else:\n",
    "                FP = FP + 1\n",
    "        except KeyError:\n",
    "            pass # Ignore it for now\n",
    "            \n",
    "    return float(TP)/(TP+FP)\n",
    "\n",
    "precision = evaluate(result_df)\n",
    "precision = precision * 100\n",
    "print(precision)"
   ]
  },
  {
   "cell_type": "code",
   "execution_count": 6,
   "metadata": {},
   "outputs": [],
   "source": [
    "\n",
    "with open(output_file + '.txt', 'w') as f:\n",
    "    f.write('%.2f' % precision)\n"
   ]
  }
 ],
 "metadata": {
  "kernelspec": {
   "display_name": "Python 3",
   "language": "python",
   "name": "python3"
  },
  "language_info": {
   "codemirror_mode": {
    "name": "ipython",
    "version": 3
   },
   "file_extension": ".py",
   "mimetype": "text/x-python",
   "name": "python",
   "nbconvert_exporter": "python",
   "pygments_lexer": "ipython3",
   "version": "3.5.2"
  }
 },
 "nbformat": 4,
 "nbformat_minor": 2
}
