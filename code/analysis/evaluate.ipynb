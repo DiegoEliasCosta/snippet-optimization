{
 "cells": [
  {
   "cell_type": "markdown",
   "metadata": {},
   "source": [
    "### Luigi Module"
   ]
  },
  {
   "cell_type": "code",
   "execution_count": null,
   "metadata": {
    "collapsed": true
   },
   "outputs": [],
   "source": [
    "import os\n",
    "import sys\n",
    "module_path = os.path.abspath(os.path.join(\"../..\"))\n",
    "if module_path not in sys.path:\n",
    "    sys.path.append(module_path)\n",
    "    \n",
    "from jupyter_notebook import load_parameters \n",
    "\n",
    "pars = load_parameters()\n",
    "\n",
    "input_file = pars.get('input')\n",
    "output_file = pars.get('output')\n",
    "\n",
    "# Dealing with multiple outputs\n",
    "\n",
    "dataset = pars.get('dataset')"
   ]
  },
  {
   "cell_type": "code",
   "execution_count": 88,
   "metadata": {
    "collapsed": true
   },
   "outputs": [],
   "source": [
    "import pandas as pd"
   ]
  },
  {
   "cell_type": "code",
   "execution_count": 106,
   "metadata": {
    "collapsed": true
   },
   "outputs": [],
   "source": [
    "# tagged_dataset_file = '../../data/stack-overflow/Dataset - Pandas.csv'\n",
    "dataset = pd.read_csv(dataset, encoding='ISO-8859-1', error_bad_lines=False)\n",
    "\n",
    "result_df = pd.read_pickle(input_file)\n"
   ]
  },
  {
   "cell_type": "code",
   "execution_count": 118,
   "metadata": {
    "collapsed": true
   },
   "outputs": [],
   "source": [
    "def buildTaggedDatasetDSForEvaluation(tagged_dataset_df):\n",
    "    taggedDSEvalDict = dict()\n",
    "    try:\n",
    "        for index, row in tagged_dataset_df.iterrows():\n",
    "            Id = row['AnswerId']\n",
    "            if Id != 0:\n",
    "                \n",
    "                if Id in taggedDSEvalDict:\n",
    "                    solutionList = taggedDSEvalDict[Id]\n",
    "                else:\n",
    "                    solutionList = list()                    \n",
    "                lineList = list()\n",
    "                lines = row['Solution'].split('\\n')\n",
    "                for line in lines:\n",
    "                    if line.strip() != '':\n",
    "                        pair = [line, False]\n",
    "                        lineList.append(pair)\n",
    "                solutionList.append(lineList)\n",
    "                taggedDSEvalDict[Id]= solutionList\n",
    "        \n",
    "    except Exception as e:\n",
    "        print(Id, e)\n",
    "    return taggedDSEvalDict\n",
    "\n",
    "\n",
    "def buildResultSetForEvaluation(result_df):\n",
    "    resultSetDict = dict()\n",
    "    try:\n",
    "        for index, row in result_df.iterrows():\n",
    "            ansId = row['Id']\n",
    "            solutionLinesTuple = list()                    \n",
    "            predictedLines = row['Solution']\n",
    "            for line in predictedLines:\n",
    "                if line.strip() != '':\n",
    "                    pair = [line, False]\n",
    "                    solutionLinesTuple.append(pair)\n",
    "            resultSetDict[ansId]= solutionLinesTuple\n",
    "        \n",
    "    except Exception as e:\n",
    "        print(ansId, e)\n",
    "    return resultSetDict\n",
    "\n",
    "def markTheLines(taggedDSEvalDict, resultSetDict):\n",
    "    for Id, pairs in resultSetDict.items():\n",
    "        try:\n",
    "            solutionList = taggedDSEvalDict[Id] # Error\n",
    "            for respair in pairs:\n",
    "                for solution in solutionList:\n",
    "                    for tagpair in solution:\n",
    "                        if tagpair[0].strip() == respair[0].strip():\n",
    "                            tagpair[1] = True\n",
    "                            respair[1] = True\n",
    "        except KeyError:\n",
    "            pass # Ignore it for now\n",
    "    return taggedDSEvalDict, resultSetDict"
   ]
  },
  {
   "cell_type": "code",
   "execution_count": 128,
   "metadata": {
    "collapsed": true
   },
   "outputs": [],
   "source": [
    "def evaluate(result_df):\n",
    "    TP = 0\n",
    "    FP = 0\n",
    "    taggedDSEvalDict =  buildTaggedDatasetDSForEvaluation(dataset)\n",
    "    resultSetDict = buildResultSetForEvaluation(result_df)\n",
    "    taggedDSEvalDict, resultSetDict = markTheLines(taggedDSEvalDict, resultSetDict)\n",
    "    for Id, pairs in resultSetDict.items():\n",
    "        try:\n",
    "            MA = True\n",
    "            for pair in pairs:\n",
    "                MA = MA and pair[1]\n",
    "            if MA:\n",
    "                MP = False\n",
    "\n",
    "                solutions = taggedDSEvalDict[Id]\n",
    "                for solution in solutions:\n",
    "                    MPS = True\n",
    "                    for tagpair in solution:\n",
    "                        MPS = MPS and tagpair[1]\n",
    "                    MP = MP or MPS\n",
    "                if MP:\n",
    "                    TP = TP + 1\n",
    "                else:\n",
    "                    FP = FP + 1\n",
    "\n",
    "            else:\n",
    "                FP = FP + 1\n",
    "        except KeyError:\n",
    "            pass # Ignore it for now\n",
    "            \n",
    "    return float(TP)/(TP+FP)\n",
    "\n",
    "precision = evaluate(result_df)\n",
    "precision = precision * 100"
   ]
  },
  {
   "cell_type": "code",
   "execution_count": 2,
   "metadata": {},
   "outputs": [
    {
     "ename": "NameError",
     "evalue": "name 'evaluate' is not defined",
     "output_type": "error",
     "traceback": [
      "\u001b[1;31m---------------------------------------------------------------------------\u001b[0m",
      "\u001b[1;31mNameError\u001b[0m                                 Traceback (most recent call last)",
      "\u001b[1;32m<ipython-input-2-a1831e47c73c>\u001b[0m in \u001b[0;36m<module>\u001b[1;34m()\u001b[0m\n\u001b[1;32m----> 1\u001b[1;33m \u001b[0mprecision\u001b[0m \u001b[1;33m=\u001b[0m  \u001b[0mevaluate\u001b[0m\u001b[1;33m(\u001b[0m\u001b[0mresult_df\u001b[0m\u001b[1;33m)\u001b[0m\u001b[1;33m\u001b[0m\u001b[0m\n\u001b[0m\u001b[0;32m      2\u001b[0m \u001b[1;33m\u001b[0m\u001b[0m\n\u001b[0;32m      3\u001b[0m \u001b[0moutput_file\u001b[0m \u001b[1;33m=\u001b[0m \u001b[1;34m''\u001b[0m\u001b[1;33m\u001b[0m\u001b[0m\n\u001b[0;32m      4\u001b[0m \u001b[1;33m\u001b[0m\u001b[0m\n\u001b[0;32m      5\u001b[0m \u001b[1;32mwith\u001b[0m \u001b[0mopen\u001b[0m\u001b[1;33m(\u001b[0m\u001b[0moutput_file\u001b[0m\u001b[1;33m,\u001b[0m \u001b[1;34m'w'\u001b[0m\u001b[1;33m)\u001b[0m \u001b[1;32mas\u001b[0m \u001b[0mf\u001b[0m\u001b[1;33m:\u001b[0m\u001b[1;33m\u001b[0m\u001b[0m\n",
      "\u001b[1;31mNameError\u001b[0m: name 'evaluate' is not defined"
     ]
    }
   ],
   "source": [
    "\n",
    "with open(output_file + '.txt', 'w') as f:\n",
    "    f.write('%.2f' % precision)\n"
   ]
  }
 ],
 "metadata": {
  "kernelspec": {
   "display_name": "Python 3",
   "language": "python",
   "name": "python3"
  },
  "language_info": {
   "codemirror_mode": {
    "name": "ipython",
    "version": 3
   },
   "file_extension": ".py",
   "mimetype": "text/x-python",
   "name": "python",
   "nbconvert_exporter": "python",
   "pygments_lexer": "ipython3",
   "version": "3.6.3"
  }
 },
 "nbformat": 4,
 "nbformat_minor": 2
}
