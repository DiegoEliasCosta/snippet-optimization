{
 "cells": [
  {
   "cell_type": "code",
   "execution_count": 1,
   "metadata": {},
   "outputs": [],
   "source": [
    "import os\n",
    "import sys\n",
    "module_path = os.path.abspath(os.path.join(\"../..\"))\n",
    "if module_path not in sys.path:\n",
    "    sys.path.append(module_path)\n",
    "    \n",
    "from jupyter_notebook import load_parameters"
   ]
  },
  {
   "cell_type": "code",
   "execution_count": 11,
   "metadata": {},
   "outputs": [],
   "source": [
    "import pandas as pd\n",
    "import os\n",
    "\n",
    "results_folder = os.path.join('..', '..', 'data', 'results')\n",
    "h1_result_file = os.path.join(results_folder, 'result_df_h1')"
   ]
  },
  {
   "cell_type": "code",
   "execution_count": 12,
   "metadata": {},
   "outputs": [],
   "source": [
    "def evaluate():\n",
    "    results_df = pd.read_pickle(h1_result_file)\n",
    "\n",
    "    TP = 0\n",
    "    TN = 0\n",
    "    FP = 0\n",
    "    FN = 0\n",
    "    for index, row in results_df.iterrows():\n",
    "        actual = row['actual']\n",
    "        predicted = row['predicted']\n",
    "        if actual and predicted:\n",
    "            TP = TP + 1\n",
    "        if (not actual) and predicted:\n",
    "            FP = FP + 1\n",
    "        if (not actual) and (not predicted):\n",
    "            TN = TN + 1\n",
    "        if actual and (not predicted):\n",
    "            FN = FN + 1\n",
    "        \n",
    "    Accuracy = 0\n",
    "    Precision = 0\n",
    "    Recall = 0\n",
    "    F1 = 0\n",
    "    if TP == 0:\n",
    "        Precision = 0\n",
    "        Recall = 0\n",
    "    else:\n",
    "        Precision = float(TP)/(TP + FP)\n",
    "        Recall = float(TP)/(TP + FN)\n",
    "        if (Precision == 0)  and (Recall == 0):\n",
    "            return 0, 0, 0, 0\n",
    "        else:\n",
    "            F1 = (2*Precision*Recall)/(Precision+Recall)\n",
    "            Accuracy = float(TP + TN)/ (TP+TN+FN+FP)\n",
    "    return Accuracy*100, F1*100, Precision*100, Recall*100\n",
    "    "
   ]
  },
  {
   "cell_type": "code",
   "execution_count": 13,
   "metadata": {},
   "outputs": [
    {
     "name": "stdout",
     "output_type": "stream",
     "text": [
      "Accuracy 81.03448275862068 F1 72.50000000000001 Precision 65.9090909090909 Recall 80.55555555555556\n"
     ]
    }
   ],
   "source": [
    "a, f, p, r = evaluate()\n",
    "print('Accuracy', a, 'F1', f, 'Precision', p, 'Recall', r)"
   ]
  }
 ],
 "metadata": {
  "kernelspec": {
   "display_name": "Python 3",
   "language": "python",
   "name": "python3"
  },
  "language_info": {
   "codemirror_mode": {
    "name": "ipython",
    "version": 3
   },
   "file_extension": ".py",
   "mimetype": "text/x-python",
   "name": "python",
   "nbconvert_exporter": "python",
   "pygments_lexer": "ipython3",
   "version": "3.5.2"
  }
 },
 "nbformat": 4,
 "nbformat_minor": 2
}
