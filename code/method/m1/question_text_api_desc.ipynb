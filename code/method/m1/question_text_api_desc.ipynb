{
 "cells": [
  {
   "cell_type": "code",
   "execution_count": 1,
   "metadata": {
    "collapsed": true,
    "deletable": true,
    "editable": true
   },
   "outputs": [],
   "source": [
    "import nltk, string\n",
    "from sklearn.feature_extraction.text import TfidfVectorizer\n",
    "import ast\n",
    "import pickle\n",
    "import os\n",
    "import re"
   ]
  },
  {
   "cell_type": "markdown",
   "metadata": {
    "deletable": true,
    "editable": true
   },
   "source": [
    "#### Utility to get similarity between two texts"
   ]
  },
  {
   "cell_type": "code",
   "execution_count": 2,
   "metadata": {
    "collapsed": true,
    "deletable": true,
    "editable": true
   },
   "outputs": [],
   "source": [
    "stemmer = nltk.stem.porter.PorterStemmer()\n",
    "remove_punctuation_map = dict((ord(char), None) for char in string.punctuation)\n",
    "\n",
    "def stem_tokens(tokens):\n",
    "    return [stemmer.stem(item) for item in tokens]\n",
    "\n",
    "\n",
    "'''remove punctuation, lowercase, stem'''\n",
    "def normalize(text):\n",
    "    return stem_tokens(nltk.word_tokenize(text.lower().translate(remove_punctuation_map)))\n",
    "\n",
    "vectorizer = TfidfVectorizer(tokenizer=normalize, stop_words='english')\n",
    "\n",
    "def cosine_sim(text1, text2):\n",
    "    text1 = removeSpecialChars(text1)\n",
    "    text2 = removeSpecialChars(text2)\n",
    "    tfidf = vectorizer.fit_transform([text1, text2])\n",
    "    return ((tfidf * tfidf.T).A)[0,1]\n",
    "\n",
    "def removeSpecialChars(text):\n",
    "    return re.sub(\"[^a-zA-Z0-9]\", \" \", text)"
   ]
  },
  {
   "cell_type": "markdown",
   "metadata": {
    "deletable": true,
    "editable": true
   },
   "source": [
    "#### Utility to extract method name"
   ]
  },
  {
   "cell_type": "code",
   "execution_count": 3,
   "metadata": {
    "collapsed": true,
    "deletable": true,
    "editable": true
   },
   "outputs": [],
   "source": [
    "from collections import deque\n",
    "\n",
    "class FunctionCallVisitor(ast.NodeVisitor):\n",
    "    def __init__(self):\n",
    "        self._name = deque()\n",
    "    \n",
    "    @property\n",
    "    def name(self):\n",
    "        return '.'.join(self._name)\n",
    "    \n",
    "    @name.deleter\n",
    "    def name(self):\n",
    "        self._name.clear()\n",
    "    \n",
    "    def visit_Name(self, node):\n",
    "        self._name.appendleft(node.id)\n",
    "    \n",
    "    def visit_Attribute(self, node):\n",
    "        try:\n",
    "            self._name.appendleft(node.attr)\n",
    "            self._name.appendleft(node.value.id)\n",
    "        except AttributeError:\n",
    "            self.generic_visit(node)\n",
    "            \n",
    "def get_func_calls(tree):\n",
    "    func_calls = []\n",
    "    for node in ast.walk(tree):\n",
    "        if isinstance(node, ast.Call):\n",
    "            callvisitor = FunctionCallVisitor()\n",
    "            callvisitor.visit(node.func)\n",
    "            func_calls.append(callvisitor.name)\n",
    "    return func_calls"
   ]
  },
  {
   "cell_type": "markdown",
   "metadata": {
    "deletable": true,
    "editable": true
   },
   "source": [
    "#### Load APIDoc and Dataset"
   ]
  },
  {
   "cell_type": "code",
   "execution_count": 4,
   "metadata": {
    "collapsed": false,
    "deletable": true,
    "editable": true
   },
   "outputs": [
    {
     "name": "stdout",
     "output_type": "stream",
     "text": [
      "cannot convert float NaN to integer\n",
      "120\n"
     ]
    }
   ],
   "source": [
    "API_DOC_FILE_PATH = 'api_doc.pkl'\n",
    "DATASET_FILE_PATH = 'dataset_df.pkl'\n",
    "api_df = pickle.load( open( API_DOC_FILE_PATH, \"rb\" ))\n",
    "dataset_df = pickle.load( open( DATASET_FILE_PATH, \"rb\" ))\n",
    "\n",
    "def buildAPIDictionaryWithContext(api_df):\n",
    "    api_dict = dict()\n",
    "    \n",
    "    for index, row in api_df.iterrows():\n",
    "        methodContext = row['Description']\n",
    "        tokens = row['FullyQualifiedName'].split('.')\n",
    "        for token in tokens:\n",
    "            methodContext = methodContext+' '+token\n",
    "        api_dict[row['MethodName']] = methodContext\n",
    "    return api_dict\n",
    "        \n",
    "\n",
    "def buildDatasetDSForEvaluation(dataset_df):\n",
    "    dataset_dict = dict()\n",
    "    total_solutions = 0\n",
    "    try:    \n",
    "        for idx, row in dataset_df.iterrows():\n",
    "            answerId = row['AnswerId']\n",
    "            if answerId != 0:\n",
    "                total_solutions = total_solutions +1\n",
    "                tup = (int(row['SolutionId']), row['Solution'])\n",
    "                if answerId in dataset_dict:\n",
    "                    ls = dataset_dict[answerId]\n",
    "                    ls.append(tup)\n",
    "                    dataset_dict[answerId] = ls\n",
    "                else:\n",
    "                    ls = list()\n",
    "                    ls.append(tup)\n",
    "                    dataset_dict[answerId] = ls\n",
    "    except Exception as e:\n",
    "        print e\n",
    "        \n",
    "    return dataset_dict, total_solutions\n",
    "\n",
    "def buildAnswerIdQuestionTextDict(dataset_df):\n",
    "    dataset_answerId_QText_Dict = dict()\n",
    "    try:\n",
    "        for idx, row in dataset_df.iterrows():\n",
    "            answerId = row['AnswerId']\n",
    "            if answerId != 0:\n",
    "                dataset_answerId_QText_Dict[answerId] = row['QuestionText']\n",
    "    except Exception as e:\n",
    "        print e\n",
    "        \n",
    "    return dataset_answerId_QText_Dict\n",
    "    \n",
    "api_dict = buildAPIDictionaryWithContext(api_df)\n",
    "#print api_dict\n",
    "dataset_dict, total_solutions = buildDatasetDSForEvaluation(dataset_df)\n",
    "print total_solutions\n",
    "\n",
    "dataset_answerId_QText_Dict = buildAnswerIdQuestionTextDict(dataset_df)"
   ]
  },
  {
   "cell_type": "code",
   "execution_count": 5,
   "metadata": {
    "collapsed": false,
    "deletable": true,
    "editable": true
   },
   "outputs": [],
   "source": [
    "def lookUpAPIDocForContext(method_name):\n",
    "    if method_name in api_dict.keys():\n",
    "        return api_dict[method_name]\n",
    "    else:\n",
    "        return method_name\n",
    "\n",
    "def getSOContext(answerId):\n",
    "    return dataset_answerId_QText_Dict[int(answerId)]"
   ]
  },
  {
   "cell_type": "markdown",
   "metadata": {
    "deletable": true,
    "editable": true
   },
   "source": [
    "all the lines --> tp +tn + fp+fn\n",
    "tp-> identified as solution and the solution\n",
    "fp-> identified as solution but not the solution\n",
    "tn-> not identified as solution and also not the solution\n",
    "fn-> not identified as solution but the solution\n",
    "\n",
    "Accuracy: (tp+tn)/(tp+tn+fp+fn)\n",
    "Precision: tp/(tp+fp)\n",
    "Recall: tp/(tp+fn)\n",
    "F1: (2*P*R)/(P+R)\n",
    "\n",
    "TP-> Lines identified as solution are the solution\n",
    "TN -> Lines not identified as solution are not the solution"
   ]
  },
  {
   "cell_type": "code",
   "execution_count": 6,
   "metadata": {
    "collapsed": false,
    "deletable": true,
    "editable": true
   },
   "outputs": [],
   "source": [
    "PROCESSED_CODE_OUTPUT_FOLDER = '../../data-preprocess/neelesh/processed_answer_codes'\n",
    "\n",
    "def evaluate(cosine_sim_thresould):\n",
    "    TP = 0\n",
    "    TN = 0\n",
    "    FP = 0\n",
    "    FN = 0\n",
    "    for fil in os.listdir(PROCESSED_CODE_OUTPUT_FOLDER):\n",
    "        try:\n",
    "            solutionList = dataset_dict[int(fil)]\n",
    "            with open(os.path.join(PROCESSED_CODE_OUTPUT_FOLDER, fil), 'r') as f:\n",
    "                lines = f.readlines()\n",
    "                #print f\n",
    "                for line in lines:\n",
    "                    actualSolution = False\n",
    "                    predictedSolution = False\n",
    "                    for tup in solutionList:\n",
    "                        if tup[1].strip() == line.strip():\n",
    "                            actualSolution = True\n",
    "                \n",
    "                    tree = ast.parse(line)\n",
    "                    func_calls = get_func_calls(tree)\n",
    "                    for func_call in func_calls:\n",
    "                        tokens = func_call.split('.')\n",
    "                        method_name = tokens[len(tokens)-1]\n",
    "                        API_Context = lookUpAPIDocForContext(method_name)\n",
    "                        #print 'API: ', API_Context, 'Method_Name: ', method_name\n",
    "                        SO_Context = getSOContext(fil)\n",
    "                        cos_score = cosine_sim(API_Context, SO_Context)\n",
    "                        #print 'API: ', API_Context, 'SO: ', SO_Context, 'COS: ', cos_score, '\\n'\n",
    "                        if cos_score > cosine_sim_thresould:\n",
    "                            predictedSolution = True\n",
    "                            break\n",
    "                \n",
    "                    if actualSolution and predictedSolution:\n",
    "                        TP = TP + 1\n",
    "                    if (not actualSolution) and predictedSolution:\n",
    "                        FP = FP + 1\n",
    "                    if (not actualSolution) and (not predictedSolution):\n",
    "                        TN = TN + 1\n",
    "                    if actualSolution and (not predictedSolution):\n",
    "                        FN = FN + 1\n",
    "        except Exception as e:\n",
    "            print e\n",
    "    #acc = (TP+TN)*100/(TP+TN+FP+FN)\n",
    "    #return acc\n",
    "    Precision = 0\n",
    "    Recall = 0\n",
    "    F1 = 0\n",
    "    if TP == 0:\n",
    "        Precision = 0\n",
    "        Recall = 0\n",
    "    else:\n",
    "        Precision = float(TP)/(TP + FP)\n",
    "        Recall = float(TP)/(TP + FN)\n",
    "    if (Precision == 0)  and (Recall == 0):\n",
    "        return 0, 0, 0\n",
    "    else:\n",
    "        F1 = (2*Precision*Recall)/(Precision+Recall)\n",
    "    return F1*100, Precision*100, Recall*100"
   ]
  },
  {
   "cell_type": "code",
   "execution_count": 7,
   "metadata": {
    "collapsed": false,
    "deletable": true,
    "editable": true
   },
   "outputs": [
    {
     "name": "stderr",
     "output_type": "stream",
     "text": [
      "/usr/local/lib/python2.7/dist-packages/sklearn/feature_extraction/text.py:1059: FutureWarning: Conversion of the second argument of issubdtype from `float` to `np.floating` is deprecated. In future, it will be treated as `np.float64 == np.dtype(float).type`.\n",
      "  if hasattr(X, 'dtype') and np.issubdtype(X.dtype, np.float):\n"
     ]
    },
    {
     "name": "stdout",
     "output_type": "stream",
     "text": [
      "17841294\n",
      "Cosine Sim:  0.0 Precison:  65.0485436893 Recall:  88.1578947368 F1:  74.8603351955 \n",
      "\n",
      "17841294\n",
      "Cosine Sim:  0.1 Precison:  72.1518987342 Recall:  75.0 F1:  73.5483870968 \n",
      "\n",
      "17841294\n",
      "Cosine Sim:  0.2 Precison:  69.696969697 Recall:  30.2631578947 F1:  42.2018348624 \n",
      "\n",
      "17841294\n",
      "Cosine Sim:  0.30000000000000004 Precison:  75.0 Recall:  15.7894736842 F1:  26.0869565217 \n",
      "\n",
      "17841294\n",
      "Cosine Sim:  0.4 Precison:  88.8888888889 Recall:  10.5263157895 F1:  18.8235294118 \n",
      "\n",
      "17841294\n",
      "Cosine Sim:  0.5 Precison:  100.0 Recall:  9.21052631579 F1:  16.8674698795 \n",
      "\n",
      "17841294\n",
      "Cosine Sim:  0.6000000000000001 Precison:  100.0 Recall:  2.63157894737 F1:  5.12820512821 \n",
      "\n",
      "17841294\n",
      "Cosine Sim:  0.7000000000000001 Precison:  100.0 Recall:  2.63157894737 F1:  5.12820512821 \n",
      "\n",
      "17841294\n",
      "Cosine Sim:  0.8 Precison:  0 Recall:  0 F1:  0 \n",
      "\n",
      "17841294\n",
      "Cosine Sim:  0.9 Precison:  0 Recall:  0 F1:  0 \n",
      "\n",
      "17841294\n",
      "Cosine Sim:  1.0 Precison:  0 Recall:  0 F1:  0 \n",
      "\n",
      "[74.8603352  73.5483871  42.20183486 26.08695652 18.82352941 16.86746988\n",
      "  5.12820513  5.12820513  0.          0.          0.        ]\n"
     ]
    },
    {
     "data": {
      "image/png": "[encoded data removed]",
      "text/plain": [
       "<matplotlib.figure.Figure at 0x7f03698e7bd0>"
      ]
     },
     "metadata": {},
     "output_type": "display_data"
    }
   ],
   "source": [
    "import numpy as np\n",
    "import matplotlib.pyplot as plt\n",
    "\n",
    "x = np.arange(0, 1.1, .1)\n",
    "precision = list()\n",
    "recall = list()\n",
    "f1 = list()\n",
    "for num in np.nditer(x):\n",
    "    f, p, r = evaluate(num)\n",
    "    print 'Cosine Sim: ', num, 'Precison: ', p, 'Recall: ', r, 'F1: ', f, '\\n'\n",
    "    f1.append(f)\n",
    "    precision.append(p)\n",
    "    recall.append(r)\n",
    "\n",
    "precision = np.array(precision)\n",
    "recall = np.array(recall)\n",
    "f1 = np.array(f1)\n",
    "print f1\n",
    "\n",
    "plt.plot(x, f1, 'r--',  x, precision, 'b--',   x, recall, 'g--')\n",
    "for a,b in zip(x, f1): \n",
    "    plt.text(a, b, str(b))\n",
    "\n",
    "plt.ylabel('Accuracy (in %)')\n",
    "plt.xlabel('cosine threshold')\n",
    "plt.title('Identifying Solution using M1')\n",
    "plt.rcParams['figure.figsize'] = (20.0, 20.0)\n",
    "plt.show()"
   ]
  }
 ],
 "metadata": {
  "kernelspec": {
   "display_name": "Python 2",
   "language": "python",
   "name": "python2"
  },
  "language_info": {
   "codemirror_mode": {
    "name": "ipython",
    "version": 2
   },
   "file_extension": ".py",
   "mimetype": "text/x-python",
   "name": "python",
   "nbconvert_exporter": "python",
   "pygments_lexer": "ipython2",
   "version": "2.7.12"
  }
 },
 "nbformat": 4,
 "nbformat_minor": 2
}
