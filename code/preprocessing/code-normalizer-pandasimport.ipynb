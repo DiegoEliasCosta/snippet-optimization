{
 "cells": [
  {
   "cell_type": "markdown",
   "metadata": {},
   "source": [
    "#### Import Parent Module"
   ]
  },
  {
   "cell_type": "code",
   "execution_count": null,
   "metadata": {
    "collapsed": true
   },
   "outputs": [],
   "source": [
    "import os\n",
    "import sys\n",
    "module_path = os.path.abspath(os.path.join('..', '..'))\n",
    "if module_path not in sys.path:\n",
    "    sys.path.append(module_path)\n",
    "    \n",
    "from jupyter_notebook import load_parameters"
   ]
  },
  {
   "cell_type": "code",
   "execution_count": null,
   "metadata": {
    "collapsed": true
   },
   "outputs": [],
   "source": [
    "import pandas as pd\n",
    "import os\n",
    "import ast\n",
    "import pyflakes"
   ]
  },
  {
   "cell_type": "markdown",
   "metadata": {},
   "source": [
    "#### Read Luigi Parameters"
   ]
  },
  {
   "cell_type": "code",
   "execution_count": null,
   "metadata": {
    "collapsed": true
   },
   "outputs": [],
   "source": [
    "pars = load_parameters()\n",
    "\n",
    "input_path = pars.get('input')\n",
    "output_file = pars.get('output')\n",
    "\n",
    "input_col = pars.get('input_col')\n",
    "output_col = pars.get('output_col')"
   ]
  },
  {
   "cell_type": "code",
   "execution_count": null,
   "metadata": {
    "collapsed": true
   },
   "outputs": [],
   "source": [
    "dataset = pd.read_csv(input_path, encoding='ISO-8859-1', error_bad_lines=False, sep=\";\")"
   ]
  },
  {
   "cell_type": "markdown",
   "metadata": {},
   "source": [
    "#### Normalization Method: Add Pandas Import\n",
    "\n",
    "**Simple heuristic:** \n",
    "\n",
    "1. If ```pd``` module is used but not imported -> we add the import in the beginning of the code.\n",
    "2. If ```DataFrame``` type is used but not imported -> add the import of the type \n"
   ]
  },
  {
   "cell_type": "code",
   "execution_count": 1,
   "metadata": {
    "collapsed": true
   },
   "outputs": [],
   "source": [
    "def normalizePandasImport(post, col):\n",
    "    strcodes = post[col]\n",
    "    codes = ast.literal_eval(strcodes)\n",
    "    processed = []\n",
    "    normalized = False\n",
    "    for code in codes:\n",
    "        if \"pd.\" in code and \"import pandas as pd\" not in code:\n",
    "            code = \"import pandas as pd\\n\" + code\n",
    "            normalized = True\n",
    "            \n",
    "        if \" DataFrame\" in code and \"import DataFrame\" not in code:\n",
    "            code = \"from pandas import DataFrame\\n\" + code\n",
    "            normalized = True\n",
    "            \n",
    "        processed.append(code)\n",
    "        \n",
    "    post[output_col] = processed\n",
    "    post['PandasNormalized'] = normalized\n",
    "    \n",
    "    return post"
   ]
  },
  {
   "cell_type": "code",
   "execution_count": null,
   "metadata": {
    "collapsed": true
   },
   "outputs": [],
   "source": [
    "normalized_dataset = dataset.apply(normalizePandasImport, axis=1, args=(input_col,))"
   ]
  },
  {
   "cell_type": "markdown",
   "metadata": {},
   "source": [
    "#### Save to disk"
   ]
  },
  {
   "cell_type": "code",
   "execution_count": null,
   "metadata": {
    "collapsed": true
   },
   "outputs": [],
   "source": [
    "normalized_dataset.to_csv(output_file, encoding='ISO-8859-1', sep=';', doublequote=True, index=False)"
   ]
  }
 ],
 "metadata": {
  "kernelspec": {
   "display_name": "Python 3",
   "language": "python",
   "name": "python3"
  },
  "language_info": {
   "codemirror_mode": {
    "name": "ipython",
    "version": 3
   },
   "file_extension": ".py",
   "mimetype": "text/x-python",
   "name": "python",
   "nbconvert_exporter": "python",
   "pygments_lexer": "ipython3",
   "version": "3.6.3"
  }
 },
 "nbformat": 4,
 "nbformat_minor": 2
}
