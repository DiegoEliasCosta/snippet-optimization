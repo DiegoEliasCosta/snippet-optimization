{
 "cells": [
  {
   "cell_type": "code",
   "execution_count": 1,
   "metadata": {
    "collapsed": true
   },
   "outputs": [],
   "source": [
    "import os\n",
    "import re"
   ]
  },
  {
   "cell_type": "code",
   "execution_count": 2,
   "metadata": {
    "collapsed": true
   },
   "outputs": [],
   "source": [
    "CODE_OUTPUT_FOLDER = 'answer_codes'\n",
    "PROCESSED_CODE_OUTPUT_FOLDER = 'processed_answer_codes'"
   ]
  },
  {
   "cell_type": "code",
   "execution_count": 3,
   "metadata": {
    "collapsed": true
   },
   "outputs": [],
   "source": [
    "import ast\n",
    "\n",
    "def preprocessTerminalLikeCode(code):\n",
    "    terminalRegex='In \\[.+?\\]:(.*?)Out\\[.+?\\]'\n",
    "    sequence = re.compile(terminalRegex, re.DOTALL)\n",
    "    terminalCode = sequence.findall(code)\n",
    "    return [i.lstrip() for i in terminalCode]\n",
    "\n",
    "def preprocessOutputCode(code):\n",
    "    lines = code.split('\\n')\n",
    "    preprocessed = []\n",
    "    for l in lines:\n",
    "        try:\n",
    "            ast.parse(l)\n",
    "            preprocessed.append(l)\n",
    "        except:\n",
    "            # Ignore\n",
    "            pass\n",
    "    return '\\n'.join(preprocessed)\n",
    "\n",
    "def preprocessCode(code):\n",
    "   \n",
    "    # First Method for pre-processing\n",
    "    terminalLikeCode = preprocessTerminalLikeCode(code)\n",
    "    if terminalLikeCode:\n",
    "        code = ''.join(terminalLikeCode)\n",
    "        \n",
    "    code = preprocessOutputCode(code)\n",
    "    return code\n",
    "\n",
    "def preprocessDiego(content):\n",
    "    processed = preprocessCode(content)\n",
    "    return processed\n",
    "    \n",
    "#Assuming all the python code only starts with alphanum only\n",
    "\n",
    "def preprocessRemoveSpecialCharsFromBegining(lines):\n",
    "    content = ''\n",
    "    regex = re.compile(\"([^0-9a-zA-Z]+)([0-9a-zA-Z]+)\")\n",
    "    \n",
    "    for line in lines:\n",
    "        m = regex.match(line)\n",
    "        if m:\n",
    "            content = content + line[line.find(m.group(2)):]\n",
    "        else:\n",
    "            content = content+line\n",
    "    return content\n",
    "    "
   ]
  },
  {
   "cell_type": "code",
   "execution_count": 4,
   "metadata": {},
   "outputs": [],
   "source": [
    "# Preprocess the codes and write\n",
    "for fil in os.listdir(CODE_OUTPUT_FOLDER):\n",
    "    with open(os.path.join(CODE_OUTPUT_FOLDER, fil), 'r') as f:\n",
    "        lines = f.readlines()\n",
    "        content = preprocessRemoveSpecialCharsFromBegining(lines)\n",
    "        content = preprocessDiego(content)\n",
    "        with open(os.path.join(PROCESSED_CODE_OUTPUT_FOLDER, fil), 'w') as pf:\n",
    "            pf.write(content)\n",
    "        "
   ]
  }
 ],
 "metadata": {
  "kernelspec": {
   "display_name": "Python 3",
   "language": "python",
   "name": "python3"
  },
  "language_info": {
   "codemirror_mode": {
    "name": "ipython",
    "version": 3
   },
   "file_extension": ".py",
   "mimetype": "text/x-python",
   "name": "python",
   "nbconvert_exporter": "python",
   "pygments_lexer": "ipython3",
   "version": "3.6.3"
  }
 },
 "nbformat": 4,
 "nbformat_minor": 2
}
