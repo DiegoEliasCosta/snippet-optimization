{
 "cells": [
  {
   "cell_type": "markdown",
   "metadata": {},
   "source": [
    "#### Import Parent Module "
   ]
  },
  {
   "cell_type": "code",
   "execution_count": null,
   "metadata": {
    "collapsed": true
   },
   "outputs": [],
   "source": [
    "import os\n",
    "import sys\n",
    "module_path = os.path.abspath(os.path.join('..', '..'))\n",
    "if module_path not in sys.path:\n",
    "    sys.path.append(module_path)\n",
    "    \n",
    "from jupyter_notebook import load_parameters"
   ]
  },
  {
   "cell_type": "code",
   "execution_count": null,
   "metadata": {
    "collapsed": true
   },
   "outputs": [],
   "source": [
    "import pandas as pd\n",
    "import os\n",
    "import ast\n",
    "import pyflakes\n",
    "\n",
    "# Constants\n",
    "QUESTION_TYPE = 1\n",
    "ANSWER_TYPE = 2"
   ]
  },
  {
   "cell_type": "markdown",
   "metadata": {},
   "source": [
    "#### LUIGI Parameter"
   ]
  },
  {
   "cell_type": "code",
   "execution_count": null,
   "metadata": {
    "collapsed": true
   },
   "outputs": [],
   "source": [
    "pars = load_parameters()\n",
    "\n",
    "input_file = pars.get('input')\n",
    "output_file = pars.get('output')\n",
    "\n",
    "input_col = pars.get('input_col')\n",
    "output_col = pars.get('output_col')"
   ]
  },
  {
   "cell_type": "code",
   "execution_count": null,
   "metadata": {
    "collapsed": true
   },
   "outputs": [],
   "source": [
    "dataset = pd.read_csv(input_file, encoding='ISO-8859-1', error_bad_lines=False, sep=\";\")"
   ]
  },
  {
   "cell_type": "markdown",
   "metadata": {},
   "source": [
    "#### BlackList"
   ]
  },
  {
   "cell_type": "code",
   "execution_count": null,
   "metadata": {
    "collapsed": true
   },
   "outputs": [],
   "source": [
    "# answers = answers[:50]\n",
    "blackList = [22084742, 45695288, 45885112]\n",
    "\n",
    "def filterBlackList(answers):\n",
    "    answers = answers[~answers.Id.isin(blackList)]\n",
    "    return answers"
   ]
  },
  {
   "cell_type": "markdown",
   "metadata": {},
   "source": [
    "#### Compile Code\n",
    "\n",
    "TODO: To document..."
   ]
  },
  {
   "cell_type": "code",
   "execution_count": null,
   "metadata": {
    "collapsed": true
   },
   "outputs": [],
   "source": [
    "def reportCompilability(post, col):\n",
    "    strcodes = post[col]\n",
    "    codes = ast.literal_eval(strcodes)\n",
    "    parseableCount = 0\n",
    "    total = len(codes)\n",
    "    errors = []\n",
    "    errors_type = []\n",
    "    for code in codes:\n",
    "        # Compile\n",
    "        compiled, error, errtype = compileCode(code)\n",
    "        # Update the report\n",
    "        errors.append(str(error))\n",
    "        errors_type.append(errtype)\n",
    "        if compiled:\n",
    "            parseableCount += 1\n",
    "    return parseableCount, total, errors, errors_type\n",
    "\n",
    "\n",
    "def compileCode(code):\n",
    "    try:\n",
    "#         print('Code to compile\\n' + code)\n",
    "        tree = ast.parse(code)\n",
    "        exec(compile(tree, filename=\"<ast>\", mode=\"exec\"), {})\n",
    "        return True, \"Sucess\", \"Sucess\"\n",
    "    except Exception as e:\n",
    "        return False, e, e.__class__.__name__\n",
    "    \n",
    "    \n",
    "def compileQuestion(question, col):\n",
    "    # Get Answers\n",
    "    answers = dataset[dataset.ParentId == question.Id]\n",
    "    answers = filterBlackList(answers)\n",
    "    \n",
    "    # Chekc how to log this with LUIGI\n",
    "    print('----------------------------------------')\n",
    "    print(question.Id)\n",
    "    \n",
    "    count = 0\n",
    "    total = 0\n",
    "    question_errors = []\n",
    "    question_errors_type = []\n",
    "    for _, answer in answers.iterrows():\n",
    "        answerCompiled, answerTotal, errors, errors_type = reportCompilability(answer, col)\n",
    "        print('Checking the answer Id = %s | Errors = %s' % (answer.Id, errors))\n",
    "        count += answerCompiled\n",
    "        total += answerTotal\n",
    "        question_errors.extend(errors)\n",
    "        question_errors_type.extend(errors_type)\n",
    "        \n",
    "    question[output_col + 'Compiled'] = count\n",
    "    question[output_col + 'Total'] = total\n",
    "    question[output_col + 'Errors'] = question_errors\n",
    "    question[output_col + 'Errors Type'] = question_errors_type\n",
    "    print('----------------------------------------')\n",
    "    return question"
   ]
  },
  {
   "cell_type": "code",
   "execution_count": null,
   "metadata": {
    "collapsed": true
   },
   "outputs": [],
   "source": [
    "# Get questions\n",
    "questions = dataset[dataset.PostTypeId == QUESTION_TYPE]\n",
    "# Compile\n",
    "compiledQuestions = questions.apply(compileQuestion, axis=1, args=(input_col,)) "
   ]
  },
  {
   "cell_type": "code",
   "execution_count": null,
   "metadata": {
    "collapsed": true
   },
   "outputs": [],
   "source": [
    "def report_errors(analyzedQuestions, prefix):\n",
    "    errorslist = []\n",
    "    for err in analyzedQuestions[prefix + 'Errors Type']:\n",
    "        errorslist.extend(err)\n",
    "    df = pd.DataFrame(errorslist)   \n",
    "    return df\n"
   ]
  },
  {
   "cell_type": "markdown",
   "metadata": {},
   "source": [
    "#### Save to disk"
   ]
  },
  {
   "cell_type": "code",
   "execution_count": 1,
   "metadata": {
    "collapsed": true
   },
   "outputs": [],
   "source": [
    "compiledQuestions.to_csv(output_file, encoding='ISO-8859-1', sep=';', doublequote=True, index=False)"
   ]
  }
 ],
 "metadata": {
  "kernelspec": {
   "display_name": "Python 3",
   "language": "python",
   "name": "python3"
  },
  "language_info": {
   "codemirror_mode": {
    "name": "ipython",
    "version": 3
   },
   "file_extension": ".py",
   "mimetype": "text/x-python",
   "name": "python",
   "nbconvert_exporter": "python",
   "pygments_lexer": "ipython3",
   "version": "3.6.3"
  }
 },
 "nbformat": 4,
 "nbformat_minor": 2
}
