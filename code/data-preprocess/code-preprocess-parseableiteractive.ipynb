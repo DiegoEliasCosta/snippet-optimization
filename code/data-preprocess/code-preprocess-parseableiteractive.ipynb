{
 "cells": [
  {
   "cell_type": "code",
   "execution_count": null,
   "metadata": {
    "collapsed": true
   },
   "outputs": [],
   "source": [
    "import os\n",
    "import sys\n",
    "module_path = os.path.abspath(os.path.join(\"../..\"))\n",
    "if module_path not in sys.path:\n",
    "    sys.path.append(module_path)\n",
    "    \n",
    "from jupyter_notebook import load_parameters "
   ]
  },
  {
   "cell_type": "code",
   "execution_count": null,
   "metadata": {
    "collapsed": true
   },
   "outputs": [],
   "source": [
    "import pandas as pd\n",
    "\n",
    "pars = load_parameters()\n",
    "\n",
    "input_file = pars.get('input')\n",
    "output_file = pars.get('output')\n",
    "\n",
    "input_col = pars.get('input_col')\n",
    "output_col = pars.get('output_col')\n",
    "\n",
    "debug = pars.get('debug')"
   ]
  },
  {
   "cell_type": "code",
   "execution_count": null,
   "metadata": {
    "collapsed": true
   },
   "outputs": [],
   "source": [
    "dataset = pd.read_pickle(input_file)"
   ]
  },
  {
   "cell_type": "markdown",
   "metadata": {},
   "source": [
    "#### Remove any non-parseable python line\n",
    "\n",
    "Goal of this function is to infer valid python code from its parseability.\n",
    "\n",
    "For Example, in the following code:\n",
    "```python\n",
    "df\n",
    "df.append()\n",
    "\n",
    "A B C D \n",
    "2000-01-03 -0.59885 -0.18141 -0.68828 -0.77572\n",
    "2000-01-04 0.83935 0.15993 0.95911 -1.12959\n",
    "\n",
    "df[(df.values > 1.5).any(1)]\n",
    " \n",
    "A B C D \n",
    "2000-01-05 2.8021 -0.1086 -1.62114 -0.2017\n",
    "2000-01-06 0.7167 -0.2671 1.36029 1.7425\n",
    "```\n",
    "\n",
    "The function extracts only the valid python code lines:\n",
    "```python\n",
    "df\n",
    "df.append()\n",
    "df[(df.values > 1.5).any(1)]\n",
    "```"
   ]
  },
  {
   "cell_type": "code",
   "execution_count": null,
   "metadata": {
    "collapsed": true
   },
   "outputs": [],
   "source": [
    "import ast\n",
    "import os\n",
    "\n",
    "def preprocessParseableCodeInteractively(code):\n",
    "    processed = ''\n",
    "    not_compilable = True\n",
    "    \n",
    "    # Just a safe measure to avoid unexpected long loops\n",
    "    safe_count = len(code.split(os.linesep)) * 3\n",
    "    count = 0\n",
    "    \n",
    "    while not_compilable and count < safe_count:\n",
    "        try:\n",
    "            ast.parse(code)\n",
    "            processed = code\n",
    "            not_compilable = False\n",
    "        except SyntaxError as e:\n",
    "            # Get the line of the syntax error\n",
    "            errorstm_idx = e.lineno - 1\n",
    "            code_stms = code.split(os.linesep)\n",
    "            if errorstm_idx >= 0 and errorstm_idx < len(code_stms):     \n",
    "                # Remove the problematic code line\n",
    "                del(code_stms[errorstm_idx])\n",
    "                code = os.linesep.join(code_stms)\n",
    "            else:\n",
    "                not_compilable = False\n",
    "            pass\n",
    "        count += 1\n",
    "    return processed"
   ]
  },
  {
   "cell_type": "code",
   "execution_count": null,
   "metadata": {
    "scrolled": true
   },
   "outputs": [],
   "source": [
    "# test =\"\"\"\n",
    "# df\n",
    "# df.append()\n",
    "\n",
    "# A B C D\n",
    "# 2000-01-03 -0.59885 -0.18141 -0.68828 -0.77572\n",
    "# 2000-01-04 0.83935 0.15993 0.95911 -1.12959\n",
    "\n",
    "# df[(df.values > 1.5).any(1)]\n",
    "\n",
    "# A B C D\n",
    "# 2000-01-05 2.8021 -0.1086 -1.62114 -0.2017\n",
    "# 2000-01-06 0.7167 -0.2671 1.36029 1.7425\n",
    "# \"\"\"\n",
    "\n",
    "# preprocessParseableCode(test.replace('\\n', os.linesep))"
   ]
  },
  {
   "cell_type": "code",
   "execution_count": null,
   "metadata": {},
   "outputs": [],
   "source": [
    "# test2 = \"\"\"\n",
    "# Date,Open,High,Low,Close,Volume,Adj Close\n",
    "# 2011-10-19,27.37,27.47,27.01,27.13,42880000,27.13\n",
    "# 2011-10-18,26.94,27.40,26.80,27.31,52487900,27.31\n",
    "# 2011-10-17,27.11,27.42,26.85,26.98,39433400,26.98\n",
    "# 2011-10-14,27.31,27.50,27.02,27.27,50947700,27.27\n",
    "\n",
    "# ....\n",
    "\n",
    "# #!/usr/bin/env python\n",
    "# from pandas import *\n",
    "# df = read_csv('table.csv')\n",
    "\n",
    "# for i, row in enumerate(df.values):\n",
    "#     date = df.index[i]\n",
    "#     open, high, low, close, adjclose = row\n",
    "#     #now perform analysis on open/close based on date, etc..\n",
    "\n",
    "# \"\"\"\n",
    "\n",
    "# print(preprocessParseableCode(test2.replace('\\n', os.linesep)))"
   ]
  },
  {
   "cell_type": "code",
   "execution_count": null,
   "metadata": {},
   "outputs": [],
   "source": [
    "# test3 = \"\"\"bigdata = data1.append(data2)\n",
    "# Exception: Index cannot contain duplicate values!\n",
    "#     meta  particle  ratio   area    type    \n",
    "# 0   2     part10    1.348   0.8365  touching\n",
    "# 1   2     part18    1.558   0.8244  single  \n",
    "# 2   2     part2     1.893   0.894   single  \n",
    "# 3   2     part37    0.6695  1.005   single  \n",
    "# ....clip...\n",
    "# 36  2     part23    1.051   0.8781  single  \n",
    "# 37  2     part3     80.54   0.9714  nuclei  \n",
    "# 38  2     part34    1.071   0.9337  single  \n",
    "#     meta  particle  ratio    area    type    \n",
    "# 0   3     part10    0.4756   1.025   single  \n",
    "# 1   3     part18    0.04387  1.232   dusts   \n",
    "# 2   3     part2     1.132    0.8927  single  \n",
    "# ...clip...\n",
    "# 46  3     part46    13.71    1.001   nuclei  \n",
    "# 47  3     part3     0.7439   0.9038  single  \n",
    "# 48  3     part34    0.4349   0.9956  single \n",
    "# \"\"\"\n",
    "\n",
    "# preprocessParseableCodeInteractively(test3.replace('\\n', os.linesep))"
   ]
  },
  {
   "cell_type": "code",
   "execution_count": null,
   "metadata": {},
   "outputs": [],
   "source": [
    "def removeBlankLines(fullcode):\n",
    "    lines = [line for line in fullcode.split(os.linesep) if line.strip() != '']\n",
    "    return os.linesep.join(lines)\n"
   ]
  },
  {
   "cell_type": "code",
   "execution_count": null,
   "metadata": {
    "collapsed": true
   },
   "outputs": [],
   "source": [
    "def preprocessPost(post):\n",
    "    fullcode = str(post[input_col])\n",
    "    code = removeBlankLines(fullcode)\n",
    "    post[output_col] =  preprocessParseableCodeInteractively(code)\n",
    "    return post\n",
    "\n",
    "processed_dataset = dataset.apply(preprocessPost, axis=1)"
   ]
  },
  {
   "cell_type": "code",
   "execution_count": null,
   "metadata": {},
   "outputs": [],
   "source": [
    "processed_dataset.to_pickle(output_file)\n",
    "\n",
    "if debug:\n",
    "    processed_dataset.to_csv(output_file + \".csv\", encoding='ISO-8859-1', sep=\",\", doublequote=True, index=False)"
   ]
  }
 ],
 "metadata": {
  "kernelspec": {
   "display_name": "Python 3",
   "language": "python",
   "name": "python3"
  },
  "language_info": {
   "codemirror_mode": {
    "name": "ipython",
    "version": 3
   },
   "file_extension": ".py",
   "mimetype": "text/x-python",
   "name": "python",
   "nbconvert_exporter": "python",
   "pygments_lexer": "ipython3",
   "version": "3.6.3"
  }
 },
 "nbformat": 4,
 "nbformat_minor": 2
}
