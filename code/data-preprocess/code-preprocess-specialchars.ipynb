{
 "cells": [
  {
   "cell_type": "markdown",
   "metadata": {},
   "source": [
    "#### Import Parent Module"
   ]
  },
  {
   "cell_type": "code",
   "execution_count": 1,
   "metadata": {
    "collapsed": true
   },
   "outputs": [],
   "source": [
    "import os\n",
    "import sys\n",
    "module_path = os.path.abspath(os.path.join('..', '..'))\n",
    "if module_path not in sys.path:\n",
    "    sys.path.append(module_path)\n",
    "    \n",
    "from jupyter_notebook import load_parameters "
   ]
  },
  {
   "cell_type": "code",
   "execution_count": 2,
   "metadata": {
    "collapsed": true
   },
   "outputs": [],
   "source": [
    "import pandas as pd"
   ]
  },
  {
   "cell_type": "markdown",
   "metadata": {},
   "source": [
    "#### Read Luigi Parameters"
   ]
  },
  {
   "cell_type": "code",
   "execution_count": null,
   "metadata": {},
   "outputs": [],
   "source": [
    "pars = load_parameters()\n",
    "\n",
    "input_file = pars.get('input')\n",
    "output_file = pars.get('output')\n",
    "\n",
    "input_col = pars.get('input_col')\n",
    "output_col = pars.get('output_col')"
   ]
  },
  {
   "cell_type": "code",
   "execution_count": 15,
   "metadata": {
    "collapsed": true
   },
   "outputs": [],
   "source": [
    "# data = os.path.join('../../data/stack-overflow')\n",
    "\n",
    "# input_file = os.path.join(data, 'pandas-code-dataset.csv')\n",
    "# output_file = os.path.join(data, 'pandas-processedcode-dataset4.csv')\n",
    "\n",
    "# input_col = 'Code'\n",
    "# output_col = 'ProcessedCode'"
   ]
  },
  {
   "cell_type": "code",
   "execution_count": 16,
   "metadata": {},
   "outputs": [
    {
     "name": "stdout",
     "output_type": "stream",
     "text": [
      "Amount of entries in the dataset = 3205\n"
     ]
    }
   ],
   "source": [
    "dataset = pd.read_csv(input_file, encoding='ISO-8859-1', error_bad_lines=False, sep=\";\")\n",
    "print('Amount of entries in the dataset = %d' % len(dataset))"
   ]
  },
  {
   "cell_type": "markdown",
   "metadata": {},
   "source": [
    "#### Pre-process the dataset\n",
    "\n",
    "Remove special characters from the beginning of the python line."
   ]
  },
  {
   "cell_type": "code",
   "execution_count": 18,
   "metadata": {},
   "outputs": [],
   "source": [
    "import ast\n",
    "import re\n",
    "\n",
    "regex = re.compile(\"([^0-9a-zA-Z]+)([0-9a-zA-Z]+)\")\n",
    "\n",
    "def preprocessRemoveSpecialCharsFromBegining(df, input_col):\n",
    "    \n",
    "    code = df[input_col]\n",
    "    lines = code.split('\\n')\n",
    "    \n",
    "    content = ''\n",
    "    for line in lines:\n",
    "        m = regex.match(line)\n",
    "        if m:\n",
    "            content = content + line[line.find(m.group(2)):]\n",
    "        else:\n",
    "            content = content + line\n",
    "    df[output_col] = content\n",
    "    return df\n",
    "\n",
    "\n",
    "processed_dataset = dataset.apply(preprocessRemoveSpecialCharsFromBegining, axis=1, args=(input_col,))"
   ]
  },
  {
   "cell_type": "code",
   "execution_count": 19,
   "metadata": {
    "collapsed": true
   },
   "outputs": [],
   "source": [
    "processed_dataset.to_csv(output_file, encoding='ISO-8859-1', sep=';', doublequote=True, index=False)"
   ]
  }
 ],
 "metadata": {
  "kernelspec": {
   "display_name": "Python 3",
   "language": "python",
   "name": "python3"
  },
  "language_info": {
   "codemirror_mode": {
    "name": "ipython",
    "version": 3
   },
   "file_extension": ".py",
   "mimetype": "text/x-python",
   "name": "python",
   "nbconvert_exporter": "python",
   "pygments_lexer": "ipython3",
   "version": "3.6.3"
  }
 },
 "nbformat": 4,
 "nbformat_minor": 2
}
