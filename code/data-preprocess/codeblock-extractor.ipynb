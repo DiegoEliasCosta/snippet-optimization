{
 "cells": [
  {
   "cell_type": "markdown",
   "metadata": {},
   "source": [
    "#### Importing from parent module"
   ]
  },
  {
   "cell_type": "code",
   "execution_count": 1,
   "metadata": {
    "collapsed": true
   },
   "outputs": [],
   "source": [
    "import os\n",
    "import sys\n",
    "module_path = os.path.abspath(os.path.join('..', '..'))\n",
    "if module_path not in sys.path:\n",
    "    sys.path.append(module_path)\n",
    "    \n",
    "from jupyter_notebook import load_parameters"
   ]
  },
  {
   "cell_type": "code",
   "execution_count": 10,
   "metadata": {
    "collapsed": true
   },
   "outputs": [],
   "source": [
    "import pandas as pd\n",
    "import os\n",
    "from bs4 import BeautifulSoup\n",
    "import io"
   ]
  },
  {
   "cell_type": "markdown",
   "metadata": {},
   "source": [
    "#### Read LUIGI parameters"
   ]
  },
  {
   "cell_type": "code",
   "execution_count": null,
   "metadata": {
    "collapsed": true
   },
   "outputs": [],
   "source": [
    "pars = load_parameters()\n",
    "\n",
    "input_path = pars.get('input')\n",
    "output_file = pars.get('output')"
   ]
  },
  {
   "cell_type": "code",
   "execution_count": 11,
   "metadata": {
    "collapsed": true
   },
   "outputs": [],
   "source": [
    "dataset = pd.read_csv(input_path, encoding='ISO-8859-1', error_bad_lines=False, sep=\";\")"
   ]
  },
  {
   "cell_type": "markdown",
   "metadata": {},
   "source": [
    "#### Extract tagged code from the html fomat\n",
    "\n",
    "Here we consider only code presented within the tags ```<pre>``` and ```<code>```\n",
    "We return the extracted code in two formats:\n",
    " * As a list in ```CodeList``` column\n",
    " * As a string in ```Code``` column"
   ]
  },
  {
   "cell_type": "code",
   "execution_count": 19,
   "metadata": {
    "collapsed": true
   },
   "outputs": [],
   "source": [
    "def extract_tagged_code(text, tag):\n",
    "    soup = BeautifulSoup(text, \"html.parser\")\n",
    "    # Get the tag\n",
    "    tagged = soup.find_all(tag)\n",
    "    # Format from HTML to text\n",
    "    return [i.get_text() for i in tagged]\n",
    "\n",
    "\n",
    "def extract_code(df):\n",
    "    codelist = extract_tagged_code(df['Body'], 'pre')\n",
    "    # Code as a list (optional)\n",
    "    df['CodeList'] = codelist\n",
    "    # Concatenated code\n",
    "    df['Code'] = [''.join(codelist)]\n",
    "    return df\n",
    "    \n",
    "\n",
    "# Extract Code\n",
    "dataset = dataset.apply(extract_code, axis=1)"
   ]
  },
  {
   "cell_type": "markdown",
   "metadata": {},
   "source": [
    "#### Outputing the result as a dataframe"
   ]
  },
  {
   "cell_type": "code",
   "execution_count": 20,
   "metadata": {},
   "outputs": [
    {
     "data": {
      "text/html": [
       "<div>\n",
       "<style scoped>\n",
       "    .dataframe tbody tr th:only-of-type {\n",
       "        vertical-align: middle;\n",
       "    }\n",
       "\n",
       "    .dataframe tbody tr th {\n",
       "        vertical-align: top;\n",
       "    }\n",
       "\n",
       "    .dataframe thead th {\n",
       "        text-align: right;\n",
       "    }\n",
       "</style>\n",
       "<table border=\"1\" class=\"dataframe\">\n",
       "  <thead>\n",
       "    <tr style=\"text-align: right;\">\n",
       "      <th></th>\n",
       "      <th>Unnamed: 0</th>\n",
       "      <th>Unnamed: 0.1</th>\n",
       "      <th>AcceptedAnswerId</th>\n",
       "      <th>AnswerCount</th>\n",
       "      <th>Body</th>\n",
       "      <th>ClosedDate</th>\n",
       "      <th>CommentCount</th>\n",
       "      <th>CommunityOwnedDate</th>\n",
       "      <th>CreationDate</th>\n",
       "      <th>FavoriteCount</th>\n",
       "      <th>...</th>\n",
       "      <th>OwnerUserId</th>\n",
       "      <th>ParentId</th>\n",
       "      <th>PostTypeId</th>\n",
       "      <th>Score</th>\n",
       "      <th>Tags</th>\n",
       "      <th>Title</th>\n",
       "      <th>ViewCount</th>\n",
       "      <th>CodeList</th>\n",
       "      <th>Code</th>\n",
       "      <th>AllCode</th>\n",
       "    </tr>\n",
       "  </thead>\n",
       "  <tbody>\n",
       "    <tr>\n",
       "      <th>0</th>\n",
       "      <td>27</td>\n",
       "      <td>27</td>\n",
       "      <td>7779260.0</td>\n",
       "      <td>2.0</td>\n",
       "      <td>&lt;p&gt;When I try to merge two dataframes by rows ...</td>\n",
       "      <td>NaN</td>\n",
       "      <td>7</td>\n",
       "      <td>NaN</td>\n",
       "      <td>2011-10-15T08:21:17.460</td>\n",
       "      <td>4.0</td>\n",
       "      <td>...</td>\n",
       "      <td>601314.0</td>\n",
       "      <td>NaN</td>\n",
       "      <td>1</td>\n",
       "      <td>25</td>\n",
       "      <td>&lt;python&gt;&lt;pandas&gt;</td>\n",
       "      <td>append two data frame with pandas</td>\n",
       "      <td>25479.0</td>\n",
       "      <td>[bigdata = data1.append(data2)\\n, Exception: I...</td>\n",
       "      <td>[bigdata = data1.append(data2)\\nException: Ind...</td>\n",
       "      <td>[bigdata = data1.append(data2)\\n, Exception: I...</td>\n",
       "    </tr>\n",
       "  </tbody>\n",
       "</table>\n",
       "<p>1 rows × 26 columns</p>\n",
       "</div>"
      ],
      "text/plain": [
       "   Unnamed: 0  Unnamed: 0.1  AcceptedAnswerId  AnswerCount  \\\n",
       "0          27            27         7779260.0          2.0   \n",
       "\n",
       "                                                Body ClosedDate  CommentCount  \\\n",
       "0  <p>When I try to merge two dataframes by rows ...        NaN             7   \n",
       "\n",
       "  CommunityOwnedDate             CreationDate  FavoriteCount  \\\n",
       "0                NaN  2011-10-15T08:21:17.460            4.0   \n",
       "\n",
       "                         ...                          OwnerUserId ParentId  \\\n",
       "0                        ...                             601314.0      NaN   \n",
       "\n",
       "  PostTypeId Score              Tags                              Title  \\\n",
       "0          1    25  <python><pandas>  append two data frame with pandas   \n",
       "\n",
       "   ViewCount                                           CodeList  \\\n",
       "0    25479.0  [bigdata = data1.append(data2)\\n, Exception: I...   \n",
       "\n",
       "                                                Code  \\\n",
       "0  [bigdata = data1.append(data2)\\nException: Ind...   \n",
       "\n",
       "                                             AllCode  \n",
       "0  [bigdata = data1.append(data2)\\n, Exception: I...  \n",
       "\n",
       "[1 rows x 26 columns]"
      ]
     },
     "execution_count": 20,
     "metadata": {},
     "output_type": "execute_result"
    }
   ],
   "source": [
    "dataset.to_csv(output_file, encoding='ISO-8859-1', sep=\";\", doublequote=True, index=False)"
   ]
  }
 ],
 "metadata": {
  "kernelspec": {
   "display_name": "Python 3",
   "language": "python",
   "name": "python3"
  },
  "language_info": {
   "codemirror_mode": {
    "name": "ipython",
    "version": 3
   },
   "file_extension": ".py",
   "mimetype": "text/x-python",
   "name": "python",
   "nbconvert_exporter": "python",
   "pygments_lexer": "ipython3",
   "version": "3.6.3"
  }
 },
 "nbformat": 4,
 "nbformat_minor": 2
}
