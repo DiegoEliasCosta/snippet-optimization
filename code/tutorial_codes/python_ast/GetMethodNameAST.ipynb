{
 "cells": [
  {
   "cell_type": "markdown",
   "metadata": {
    "deletable": true,
    "editable": true
   },
   "source": [
    "#### Code to extract Method name form the python script\n",
    "\n",
    "Reference:\n",
    "Parsing Python Abstract Syntax Trees to Get Method Names\n",
    "https://suhas.org/function-call-ast-python/ "
   ]
  },
  {
   "cell_type": "code",
   "execution_count": 2,
   "metadata": {
    "collapsed": true,
    "deletable": true,
    "editable": true
   },
   "outputs": [],
   "source": [
    "import ast"
   ]
  },
  {
   "cell_type": "code",
   "execution_count": 3,
   "metadata": {
    "collapsed": false,
    "deletable": true,
    "editable": true
   },
   "outputs": [
    {
     "data": {
      "text/plain": [
       "\"Module(body=[Import(names=[alias(name='foo', asname=None)]), Assign(targets=[Name(id='data', ctx=Store())], value=Call(func=Name(id='open', ctx=Load()), args=[Str(s='file')], keywords=[], starargs=None, kwargs=None)), Expr(value=Call(func=Attribute(value=Name(id='foo', ctx=Load()), attr='bar', ctx=Load()), args=[], keywords=[keyword(arg='arg', value=Name(id='data', ctx=Load()))], starargs=None, kwargs=None)), Expr(value=Call(func=Attribute(value=Name(id='foo', ctx=Load()), attr='bar', ctx=Load()), args=[], keywords=[keyword(arg='arg', value=Call(func=Attribute(value=Name(id='foo', ctx=Load()), attr='meow', ctx=Load()), args=[Call(func=Attribute(value=Name(id='foo', ctx=Load()), attr='z', ctx=Load()), args=[], keywords=[keyword(arg='arg', value=Name(id='data', ctx=Load()))], starargs=None, kwargs=None)], keywords=[], starargs=None, kwargs=None))], starargs=None, kwargs=None)), Expr(value=Call(func=Attribute(value=Name(id='foo', ctx=Load()), attr='woof', ctx=Load()), args=[Call(func=Attribute(value=Attribute(value=Name(id='foo', ctx=Load()), attr='x', ctx=Load()), attr='y', ctx=Load()), args=[], keywords=[keyword(arg='arg', value=Name(id='data', ctx=Load()))], starargs=None, kwargs=None)], keywords=[], starargs=None, kwargs=None))])\""
      ]
     },
     "execution_count": 3,
     "metadata": {},
     "output_type": "execute_result"
    }
   ],
   "source": [
    "tree = ast.parse(open('sample.py').read())\n",
    "ast.dump(tree)"
   ]
  },
  {
   "cell_type": "code",
   "execution_count": 4,
   "metadata": {
    "collapsed": false,
    "deletable": true,
    "editable": true
   },
   "outputs": [
    {
     "data": {
      "text/plain": [
       "<_ast.Module at 0x7f93cba3c6d0>"
      ]
     },
     "execution_count": 4,
     "metadata": {},
     "output_type": "execute_result"
    }
   ],
   "source": [
    "tree"
   ]
  },
  {
   "cell_type": "code",
   "execution_count": 5,
   "metadata": {
    "collapsed": false,
    "deletable": true,
    "editable": true
   },
   "outputs": [
    {
     "data": {
      "text/plain": [
       "[<_ast.Import at 0x7f93c80c31d0>,\n",
       " <_ast.Assign at 0x7f93c80c36d0>,\n",
       " <_ast.Expr at 0x7f93c80c3810>,\n",
       " <_ast.Expr at 0x7f93c80c3990>,\n",
       " <_ast.Expr at 0x7f93c80c3cd0>]"
      ]
     },
     "execution_count": 5,
     "metadata": {},
     "output_type": "execute_result"
    }
   ],
   "source": [
    "tree.body"
   ]
  },
  {
   "cell_type": "markdown",
   "metadata": {
    "deletable": true,
    "editable": true
   },
   "source": [
    "we get a fair idea that every part of our python statements are internally represented as an AST by some object of the ast class.\n",
    "\n",
    "    ast.Import for import foo.\n",
    "    ast.Assign for data = open('file')\n",
    "    ast.Expr each for the following function calls.\n"
   ]
  },
  {
   "cell_type": "code",
   "execution_count": 8,
   "metadata": {
    "collapsed": false,
    "deletable": true,
    "editable": true
   },
   "outputs": [
    {
     "name": "stdout",
     "output_type": "stream",
     "text": [
      "Import(names=[alias(name='foo', asname=None)]) \n",
      "\n",
      "Assign(targets=[Name(id='data', ctx=Store())], value=Call(func=Name(id='open', ctx=Load()), args=[Str(s='file')], keywords=[], starargs=None, kwargs=None)) \n",
      "\n",
      "Expr(value=Call(func=Attribute(value=Name(id='foo', ctx=Load()), attr='bar', ctx=Load()), args=[], keywords=[keyword(arg='arg', value=Name(id='data', ctx=Load()))], starargs=None, kwargs=None)) \n",
      "\n",
      "Expr(value=Call(func=Attribute(value=Name(id='foo', ctx=Load()), attr='bar', ctx=Load()), args=[], keywords=[keyword(arg='arg', value=Call(func=Attribute(value=Name(id='foo', ctx=Load()), attr='meow', ctx=Load()), args=[Call(func=Attribute(value=Name(id='foo', ctx=Load()), attr='z', ctx=Load()), args=[], keywords=[keyword(arg='arg', value=Name(id='data', ctx=Load()))], starargs=None, kwargs=None)], keywords=[], starargs=None, kwargs=None))], starargs=None, kwargs=None)) \n",
      "\n",
      "Expr(value=Call(func=Attribute(value=Name(id='foo', ctx=Load()), attr='woof', ctx=Load()), args=[Call(func=Attribute(value=Attribute(value=Name(id='foo', ctx=Load()), attr='x', ctx=Load()), attr='y', ctx=Load()), args=[], keywords=[keyword(arg='arg', value=Name(id='data', ctx=Load()))], starargs=None, kwargs=None)], keywords=[], starargs=None, kwargs=None)) \n",
      "\n"
     ]
    }
   ],
   "source": [
    "for statement in tree.body:\n",
    "    print ast.dump(statement), '\\n'"
   ]
  },
  {
   "cell_type": "markdown",
   "metadata": {
    "deletable": true,
    "editable": true
   },
   "source": [
    "The Call object is what we want to explore, which appears as the child object of Expr or Assign objects in our case.\n",
    "\n",
    "from http://greentreesnakes.readthedocs.io/en/latest/nodes.html#Call\n",
    "\n",
    "What we’ve learned so far:\n",
    "\n",
    "    Every statement is represented as an object of one of the ast classes\n",
    "    Function calls are ast.Call objects\n",
    "\n",
    "What we need to be careful of:\n",
    "\n",
    "    The recursive nature of the AST: nested calls like foo(bar()) are represented by an ast.Call object within an ast.Call object.\n"
   ]
  },
  {
   "cell_type": "markdown",
   "metadata": {
    "deletable": true,
    "editable": true
   },
   "source": [
    "#### Traversing the AST\n",
    "\n",
    "It is possible to do a depth-first traversal of the node by sub-classing ast.NodeVisitor and implementing a visit_* method; which can be any of the ast classes like visit_Call, visit_Assign, visit_Expr, etc.\n",
    "\n",
    "It is possible to do a depth-first traversal of the node by sub-classing ast.NodeVisitor and implementing a visit_* method; which can be any of the ast classes like visit_Call, visit_Assign, visit_Expr, etc.\n",
    "\n",
    "Let’s visit every function call."
   ]
  },
  {
   "cell_type": "code",
   "execution_count": 12,
   "metadata": {
    "collapsed": false
   },
   "outputs": [
    {
     "name": "stdout",
     "output_type": "stream",
     "text": [
      ".\n",
      "foo.bar\n",
      "foo.z\n",
      "foo.x\n",
      "foo.x\n",
      "foo.z\n",
      "foo.z\n"
     ]
    }
   ],
   "source": [
    "func_calls=[]\n",
    "\n",
    "for node in ast.walk(tree):\n",
    "    if isinstance(node, ast.Call):\n",
    "        api_name =''\n",
    "        method_name =''\n",
    "        for subnode in ast.walk(node):\n",
    "            if isinstance(subnode, ast.Attribute):\n",
    "                #print method name\n",
    "                method_name = subnode.attr\n",
    "                \n",
    "                for n in ast.walk(subnode.value):\n",
    "                    if isinstance(n, ast.Name):\n",
    "                        api_name = n.id\n",
    "        print api_name+'.'+method_name        "
   ]
  },
  {
   "cell_type": "code",
   "execution_count": 22,
   "metadata": {
    "collapsed": false
   },
   "outputs": [
    {
     "ename": "TypeError",
     "evalue": "expected AST, got 'NodeVisitor'",
     "output_type": "error",
     "traceback": [
      "\u001b[0;31m---------------------------------------------------------------------------\u001b[0m",
      "\u001b[0;31mTypeError\u001b[0m                                 Traceback (most recent call last)",
      "\u001b[0;32m<ipython-input-22-91cc9944c0e3>\u001b[0m in \u001b[0;36m<module>\u001b[0;34m()\u001b[0m\n\u001b[1;32m      5\u001b[0m         \u001b[0mvisitor\u001b[0m \u001b[0;34m=\u001b[0m \u001b[0mast\u001b[0m\u001b[0;34m.\u001b[0m\u001b[0mNodeVisitor\u001b[0m\u001b[0;34m(\u001b[0m\u001b[0;34m)\u001b[0m\u001b[0;34m\u001b[0m\u001b[0m\n\u001b[1;32m      6\u001b[0m         \u001b[0mvisitor\u001b[0m\u001b[0;34m.\u001b[0m\u001b[0mvisit\u001b[0m\u001b[0;34m(\u001b[0m\u001b[0mnode\u001b[0m\u001b[0;34m.\u001b[0m\u001b[0mfunc\u001b[0m\u001b[0;34m)\u001b[0m\u001b[0;34m\u001b[0m\u001b[0m\n\u001b[0;32m----> 7\u001b[0;31m         \u001b[0;32mprint\u001b[0m \u001b[0mast\u001b[0m\u001b[0;34m.\u001b[0m\u001b[0mdump\u001b[0m\u001b[0;34m(\u001b[0m\u001b[0mvisitor\u001b[0m\u001b[0;34m)\u001b[0m\u001b[0;34m\u001b[0m\u001b[0m\n\u001b[0m",
      "\u001b[0;32m/usr/lib/python2.7/ast.pyc\u001b[0m in \u001b[0;36mdump\u001b[0;34m(node, annotate_fields, include_attributes)\u001b[0m\n\u001b[1;32m    107\u001b[0m         \u001b[0;32mreturn\u001b[0m \u001b[0mrepr\u001b[0m\u001b[0;34m(\u001b[0m\u001b[0mnode\u001b[0m\u001b[0;34m)\u001b[0m\u001b[0;34m\u001b[0m\u001b[0m\n\u001b[1;32m    108\u001b[0m     \u001b[0;32mif\u001b[0m \u001b[0;32mnot\u001b[0m \u001b[0misinstance\u001b[0m\u001b[0;34m(\u001b[0m\u001b[0mnode\u001b[0m\u001b[0;34m,\u001b[0m \u001b[0mAST\u001b[0m\u001b[0;34m)\u001b[0m\u001b[0;34m:\u001b[0m\u001b[0;34m\u001b[0m\u001b[0m\n\u001b[0;32m--> 109\u001b[0;31m         \u001b[0;32mraise\u001b[0m \u001b[0mTypeError\u001b[0m\u001b[0;34m(\u001b[0m\u001b[0;34m'expected AST, got %r'\u001b[0m \u001b[0;34m%\u001b[0m \u001b[0mnode\u001b[0m\u001b[0;34m.\u001b[0m\u001b[0m__class__\u001b[0m\u001b[0;34m.\u001b[0m\u001b[0m__name__\u001b[0m\u001b[0;34m)\u001b[0m\u001b[0;34m\u001b[0m\u001b[0m\n\u001b[0m\u001b[1;32m    110\u001b[0m     \u001b[0;32mreturn\u001b[0m \u001b[0m_format\u001b[0m\u001b[0;34m(\u001b[0m\u001b[0mnode\u001b[0m\u001b[0;34m)\u001b[0m\u001b[0;34m\u001b[0m\u001b[0m\n\u001b[1;32m    111\u001b[0m \u001b[0;34m\u001b[0m\u001b[0m\n",
      "\u001b[0;31mTypeError\u001b[0m: expected AST, got 'NodeVisitor'"
     ]
    }
   ],
   "source": [
    "func_calls=[]\n",
    "\n",
    "for node in ast.walk(tree):\n",
    "    if isinstance(node, ast.Call):\n",
    "        visitor = ast.NodeVisitor()\n",
    "        visitor.visit(node.func)\n",
    "        print ast.dump(visitor)"
   ]
  }
 ],
 "metadata": {
  "kernelspec": {
   "display_name": "Python 2",
   "language": "python",
   "name": "python2"
  },
  "language_info": {
   "codemirror_mode": {
    "name": "ipython",
    "version": 2
   },
   "file_extension": ".py",
   "mimetype": "text/x-python",
   "name": "python",
   "nbconvert_exporter": "python",
   "pygments_lexer": "ipython2",
   "version": "2.7.12"
  }
 },
 "nbformat": 4,
 "nbformat_minor": 2
}
