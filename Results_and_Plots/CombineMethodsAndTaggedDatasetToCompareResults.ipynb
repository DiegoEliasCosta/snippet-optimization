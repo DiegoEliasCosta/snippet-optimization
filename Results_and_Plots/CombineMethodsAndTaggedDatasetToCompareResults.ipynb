{
 "cells": [
  {
   "cell_type": "code",
   "execution_count": 1,
   "metadata": {},
   "outputs": [],
   "source": [
    "import pandas as pd"
   ]
  },
  {
   "cell_type": "code",
   "execution_count": 2,
   "metadata": {},
   "outputs": [],
   "source": [
    "# Load tagged dataset\n",
    "tagged_datset = pd.read_csv('../data/stack-overflow/Dataset - Pandas.csv')"
   ]
  },
  {
   "cell_type": "code",
   "execution_count": 7,
   "metadata": {},
   "outputs": [
    {
     "data": {
      "text/plain": [
       "Index(['QuestionId', 'QuestionText', 'ObjectiveQuestion', 'AnswerId',\n",
       "       'SolutionId', 'Solution', 'Remark'],\n",
       "      dtype='object')"
      ]
     },
     "execution_count": 7,
     "metadata": {},
     "output_type": "execute_result"
    }
   ],
   "source": [
    "tagged_datset.columns"
   ]
  },
  {
   "cell_type": "code",
   "execution_count": 8,
   "metadata": {},
   "outputs": [],
   "source": [
    "h1_solutions = pd.read_csv('actual_results_file/pandas-solutioncode-h1.csv')"
   ]
  },
  {
   "cell_type": "code",
   "execution_count": 9,
   "metadata": {},
   "outputs": [
    {
     "data": {
      "text/plain": [
       "Index(['Unnamed: 0', 'Unnamed: 0.1', 'AcceptedAnswerId', 'AnswerCount', 'Body',\n",
       "       'ClosedDate', 'CommentCount', 'CommunityOwnedDate', 'CreationDate',\n",
       "       'FavoriteCount', 'Id', 'LastActivityDate', 'LastEditDate',\n",
       "       'LastEditorDisplayName', 'LastEditorUserId', 'OwnerDisplayName',\n",
       "       'OwnerUserId', 'ParentId', 'PostTypeId', 'Score', 'Tags', 'Title',\n",
       "       'ViewCount', 'Code', 'PreprocessedCode', 'PreprocessedCode2',\n",
       "       'PreprocessedCode2_1', 'PreprocessedCode3', 'BodyText', 'BodyTextRake',\n",
       "       'TitleRake', 'Solution'],\n",
       "      dtype='object')"
      ]
     },
     "execution_count": 9,
     "metadata": {},
     "output_type": "execute_result"
    }
   ],
   "source": [
    "h1_solutions.columns"
   ]
  },
  {
   "cell_type": "code",
   "execution_count": 12,
   "metadata": {},
   "outputs": [],
   "source": [
    "h2_solutions = pd.read_csv('actual_results_file/pandas-solutioncode-h2.csv')\n",
    "h1h2_solutions = pd.read_csv('actual_results_file/pandas-solutioncode-h1h2.csv')\n",
    "m1tfidf_solutions = pd.read_csv('actual_results_file/pandas-solutioncode-m1.csv')\n",
    "m1doc2vec_solutions = pd.read_csv('actual_results_file/pandas-solutioncode-m1-doc2vec.csv')"
   ]
  },
  {
   "cell_type": "code",
   "execution_count": 11,
   "metadata": {},
   "outputs": [
    {
     "data": {
      "text/plain": [
       "Index(['Unnamed: 0', 'Unnamed: 0.1', 'AcceptedAnswerId', 'AnswerCount', 'Body',\n",
       "       'ClosedDate', 'CommentCount', 'CommunityOwnedDate', 'CreationDate',\n",
       "       'FavoriteCount', 'Id', 'LastActivityDate', 'LastEditDate',\n",
       "       'LastEditorDisplayName', 'LastEditorUserId', 'OwnerDisplayName',\n",
       "       'OwnerUserId', 'ParentId', 'PostTypeId', 'Score', 'Tags', 'Title',\n",
       "       'ViewCount', 'Code', 'PreprocessedCode', 'PreprocessedCode2',\n",
       "       'PreprocessedCode2_1', 'PreprocessedCode3', 'BodyText', 'BodyTextRake',\n",
       "       'TitleRake', 'Solution'],\n",
       "      dtype='object')"
      ]
     },
     "execution_count": 11,
     "metadata": {},
     "output_type": "execute_result"
    }
   ],
   "source": [
    "h2_solutions.columns"
   ]
  },
  {
   "cell_type": "code",
   "execution_count": 28,
   "metadata": {},
   "outputs": [],
   "source": [
    "h1_solutions_filter = h1_solutions[h1_solutions['PostTypeId']!=1]\n",
    "h2_solutions_filter = h2_solutions[h1_solutions['PostTypeId']!=1]\n",
    "h1h2_solutions_filter = h1h2_solutions[h1_solutions['PostTypeId']!=1]\n",
    "m1tfidf_solutions_filter = m1tfidf_solutions[h1_solutions['PostTypeId']!=1]\n",
    "m1doc2vec_solutions_filter = m1doc2vec_solutions[h1_solutions['PostTypeId']!=1]"
   ]
  },
  {
   "cell_type": "code",
   "execution_count": 31,
   "metadata": {},
   "outputs": [],
   "source": [
    "solutions = pd.DataFrame(columns=['AnswerId', 'preprocessed_code', 'h1', 'h2', 'h1h2', 'm1tfidf', 'm1doc2vec'])"
   ]
  },
  {
   "cell_type": "code",
   "execution_count": 32,
   "metadata": {},
   "outputs": [],
   "source": [
    "solutions['AnswerId'] = h1_solutions_filter['Id']\n",
    "solutions['preprocessed_code'] = h1_solutions_filter['PreprocessedCode3']\n",
    "solutions['h1'] = h1_solutions_filter['Solution']\n",
    "solutions['h2'] = h2_solutions_filter['Solution']\n",
    "solutions['h1h2'] = h1h2_solutions_filter['Solution']\n",
    "solutions['m1tfidf'] = m1tfidf_solutions_filter['Solution']\n",
    "solutions['m1doc2vec'] = m1doc2vec_solutions_filter['Solution']"
   ]
  },
  {
   "cell_type": "code",
   "execution_count": 33,
   "metadata": {},
   "outputs": [
    {
     "data": {
      "text/html": [
       "<div>\n",
       "<style scoped>\n",
       "    .dataframe tbody tr th:only-of-type {\n",
       "        vertical-align: middle;\n",
       "    }\n",
       "\n",
       "    .dataframe tbody tr th {\n",
       "        vertical-align: top;\n",
       "    }\n",
       "\n",
       "    .dataframe thead th {\n",
       "        text-align: right;\n",
       "    }\n",
       "</style>\n",
       "<table border=\"1\" class=\"dataframe\">\n",
       "  <thead>\n",
       "    <tr style=\"text-align: right;\">\n",
       "      <th></th>\n",
       "      <th>AnswerId</th>\n",
       "      <th>preprocessed_code</th>\n",
       "      <th>h1</th>\n",
       "      <th>h2</th>\n",
       "      <th>h1h2</th>\n",
       "      <th>m1tfidf</th>\n",
       "      <th>m1doc2vec</th>\n",
       "    </tr>\n",
       "  </thead>\n",
       "  <tbody>\n",
       "    <tr>\n",
       "      <th>1189</th>\n",
       "      <td>7779260</td>\n",
       "      <td>NaN</td>\n",
       "      <td>[]</td>\n",
       "      <td>['']</td>\n",
       "      <td>[]</td>\n",
       "      <td>[]</td>\n",
       "      <td>[]</td>\n",
       "    </tr>\n",
       "    <tr>\n",
       "      <th>1190</th>\n",
       "      <td>7837947</td>\n",
       "      <td>pct_change = close[1:]/close[:-1]\\npct_change ...</td>\n",
       "      <td>['    pct_change.append(...)']</td>\n",
       "      <td>['pct_change = close[1:]/close[:-1]', 'pct_cha...</td>\n",
       "      <td>['    pct_change.append(...)']</td>\n",
       "      <td>NaN</td>\n",
       "      <td>NaN</td>\n",
       "    </tr>\n",
       "    <tr>\n",
       "      <th>1191</th>\n",
       "      <td>7849789</td>\n",
       "      <td>for date, row in df.T.iteritems():\\n    n = le...</td>\n",
       "      <td>['for date, row in df.T.iteritems():']</td>\n",
       "      <td>['for date, row in df.T.iteritems():', '    n ...</td>\n",
       "      <td>['for date, row in df.T.iteritems():']</td>\n",
       "      <td>NaN</td>\n",
       "      <td>NaN</td>\n",
       "    </tr>\n",
       "    <tr>\n",
       "      <th>1192</th>\n",
       "      <td>8916746</td>\n",
       "      <td>df\\ndf[(df.values &gt; 1.5).any(1)]\\ndf[(df['A'] ...</td>\n",
       "      <td>['df[(df.values &gt; 1.5).any(1)]']</td>\n",
       "      <td>['df', 'df[(df.values &gt; 1.5).any(1)]', \"df[(df...</td>\n",
       "      <td>['df[(df.values &gt; 1.5).any(1)]']</td>\n",
       "      <td>NaN</td>\n",
       "      <td>NaN</td>\n",
       "    </tr>\n",
       "    <tr>\n",
       "      <th>1193</th>\n",
       "      <td>8992714</td>\n",
       "      <td>NaN</td>\n",
       "      <td>[]</td>\n",
       "      <td>['']</td>\n",
       "      <td>[]</td>\n",
       "      <td>[]</td>\n",
       "      <td>[]</td>\n",
       "    </tr>\n",
       "    <tr>\n",
       "      <th>...</th>\n",
       "      <td>...</td>\n",
       "      <td>...</td>\n",
       "      <td>...</td>\n",
       "      <td>...</td>\n",
       "      <td>...</td>\n",
       "      <td>...</td>\n",
       "      <td>...</td>\n",
       "    </tr>\n",
       "    <tr>\n",
       "      <th>3200</th>\n",
       "      <td>45494808</td>\n",
       "      <td>df = pd.DataFrame(np.random.randint(10, size=(...</td>\n",
       "      <td>['df = pd.DataFrame(np.random.randint(10, size...</td>\n",
       "      <td>['df[list(map(bool, lst))]', 'results.div(resu...</td>\n",
       "      <td>['results.div(results.min(1), 0).round(2).pipe...</td>\n",
       "      <td>NaN</td>\n",
       "      <td>NaN</td>\n",
       "    </tr>\n",
       "    <tr>\n",
       "      <th>3201</th>\n",
       "      <td>45494910</td>\n",
       "      <td>a = np.array(lst)\\ndf.query(\"index * @a &gt; 0\")\\...</td>\n",
       "      <td>['df.query(\"index * @a &gt; 0\")', 'df.query(\"@a !...</td>\n",
       "      <td>['a = np.array(lst)', 'df.query(\"index * @a &gt; ...</td>\n",
       "      <td>['df.query(\"index * @a &gt; 0\")', 'df.query(\"@a !...</td>\n",
       "      <td>NaN</td>\n",
       "      <td>NaN</td>\n",
       "    </tr>\n",
       "    <tr>\n",
       "      <th>3202</th>\n",
       "      <td>45568211</td>\n",
       "      <td>from pandas.api.types import is_string_dtype\\n...</td>\n",
       "      <td>[]</td>\n",
       "      <td>['from pandas.api.types import is_string_dtype...</td>\n",
       "      <td>[]</td>\n",
       "      <td>[]</td>\n",
       "      <td>[]</td>\n",
       "    </tr>\n",
       "    <tr>\n",
       "      <th>3203</th>\n",
       "      <td>45741989</td>\n",
       "      <td>def read_clipboard_mi(index_names_row=None, **...</td>\n",
       "      <td>[\"    encoding = kwargs.pop('encoding', 'utf-8...</td>\n",
       "      <td>['def read_clipboard_mi(index_names_row=None, ...</td>\n",
       "      <td>[\"    encoding = kwargs.pop('encoding', 'utf-8...</td>\n",
       "      <td>NaN</td>\n",
       "      <td>NaN</td>\n",
       "    </tr>\n",
       "    <tr>\n",
       "      <th>3204</th>\n",
       "      <td>45871837</td>\n",
       "      <td>cum_r = (1 + r).cumprod()\\nresult = cum_r * v0...</td>\n",
       "      <td>['cum_r = (1 + r).cumprod()', 'for date in r.i...</td>\n",
       "      <td>['cum_r = (1 + r).cumprod()', 'result = cum_r ...</td>\n",
       "      <td>['cum_r = (1 + r).cumprod()', 'for date in r.i...</td>\n",
       "      <td>NaN</td>\n",
       "      <td>NaN</td>\n",
       "    </tr>\n",
       "  </tbody>\n",
       "</table>\n",
       "<p>2016 rows × 7 columns</p>\n",
       "</div>"
      ],
      "text/plain": [
       "      AnswerId                                  preprocessed_code  \\\n",
       "1189   7779260                                                NaN   \n",
       "1190   7837947  pct_change = close[1:]/close[:-1]\\npct_change ...   \n",
       "1191   7849789  for date, row in df.T.iteritems():\\n    n = le...   \n",
       "1192   8916746  df\\ndf[(df.values > 1.5).any(1)]\\ndf[(df['A'] ...   \n",
       "1193   8992714                                                NaN   \n",
       "...        ...                                                ...   \n",
       "3200  45494808  df = pd.DataFrame(np.random.randint(10, size=(...   \n",
       "3201  45494910  a = np.array(lst)\\ndf.query(\"index * @a > 0\")\\...   \n",
       "3202  45568211  from pandas.api.types import is_string_dtype\\n...   \n",
       "3203  45741989  def read_clipboard_mi(index_names_row=None, **...   \n",
       "3204  45871837  cum_r = (1 + r).cumprod()\\nresult = cum_r * v0...   \n",
       "\n",
       "                                                     h1  \\\n",
       "1189                                                 []   \n",
       "1190                     ['    pct_change.append(...)']   \n",
       "1191             ['for date, row in df.T.iteritems():']   \n",
       "1192                   ['df[(df.values > 1.5).any(1)]']   \n",
       "1193                                                 []   \n",
       "...                                                 ...   \n",
       "3200  ['df = pd.DataFrame(np.random.randint(10, size...   \n",
       "3201  ['df.query(\"index * @a > 0\")', 'df.query(\"@a !...   \n",
       "3202                                                 []   \n",
       "3203  [\"    encoding = kwargs.pop('encoding', 'utf-8...   \n",
       "3204  ['cum_r = (1 + r).cumprod()', 'for date in r.i...   \n",
       "\n",
       "                                                     h2  \\\n",
       "1189                                               ['']   \n",
       "1190  ['pct_change = close[1:]/close[:-1]', 'pct_cha...   \n",
       "1191  ['for date, row in df.T.iteritems():', '    n ...   \n",
       "1192  ['df', 'df[(df.values > 1.5).any(1)]', \"df[(df...   \n",
       "1193                                               ['']   \n",
       "...                                                 ...   \n",
       "3200  ['df[list(map(bool, lst))]', 'results.div(resu...   \n",
       "3201  ['a = np.array(lst)', 'df.query(\"index * @a > ...   \n",
       "3202  ['from pandas.api.types import is_string_dtype...   \n",
       "3203  ['def read_clipboard_mi(index_names_row=None, ...   \n",
       "3204  ['cum_r = (1 + r).cumprod()', 'result = cum_r ...   \n",
       "\n",
       "                                                   h1h2 m1tfidf m1doc2vec  \n",
       "1189                                                 []      []        []  \n",
       "1190                     ['    pct_change.append(...)']     NaN       NaN  \n",
       "1191             ['for date, row in df.T.iteritems():']     NaN       NaN  \n",
       "1192                   ['df[(df.values > 1.5).any(1)]']     NaN       NaN  \n",
       "1193                                                 []      []        []  \n",
       "...                                                 ...     ...       ...  \n",
       "3200  ['results.div(results.min(1), 0).round(2).pipe...     NaN       NaN  \n",
       "3201  ['df.query(\"index * @a > 0\")', 'df.query(\"@a !...     NaN       NaN  \n",
       "3202                                                 []      []        []  \n",
       "3203  [\"    encoding = kwargs.pop('encoding', 'utf-8...     NaN       NaN  \n",
       "3204  ['cum_r = (1 + r).cumprod()', 'for date in r.i...     NaN       NaN  \n",
       "\n",
       "[2016 rows x 7 columns]"
      ]
     },
     "execution_count": 33,
     "metadata": {},
     "output_type": "execute_result"
    }
   ],
   "source": [
    "solutions"
   ]
  },
  {
   "cell_type": "code",
   "execution_count": 34,
   "metadata": {},
   "outputs": [],
   "source": [
    "solutions.to_csv('Combined_Solution_Code_Identified.csv', index=False)"
   ]
  }
 ],
 "metadata": {
  "kernelspec": {
   "display_name": "Python 3",
   "language": "python",
   "name": "python3"
  },
  "language_info": {
   "codemirror_mode": {
    "name": "ipython",
    "version": 3
   },
   "file_extension": ".py",
   "mimetype": "text/x-python",
   "name": "python",
   "nbconvert_exporter": "python",
   "pygments_lexer": "ipython3",
   "version": "3.7.2"
  }
 },
 "nbformat": 4,
 "nbformat_minor": 2
}
