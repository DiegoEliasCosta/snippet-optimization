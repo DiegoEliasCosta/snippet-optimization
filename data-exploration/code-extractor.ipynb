{
 "cells": [
  {
   "cell_type": "code",
   "execution_count": 2,
   "metadata": {},
   "outputs": [],
   "source": [
    "import pandas as pd\n",
    "import os\n",
    "\n",
    "# QUESTION/ANSWER SCORE LIMIT\n",
    "QUESTION_SCORE = 20\n",
    "ANSWER_SCORE = 10\n",
    "\n",
    "\n",
    "file = os.path.join('..','data', 'pandas-post-dataset.csv')\n",
    "\n",
    "\n",
    "dataset = pd.read_csv(file, encoding='ISO-8859-1', error_bad_lines=False, sep=\";\")\n"
   ]
  },
  {
   "cell_type": "code",
   "execution_count": 3,
   "metadata": {
    "collapsed": true
   },
   "outputs": [],
   "source": [
    "from bs4 import BeautifulSoup\n",
    "import io\n",
    "\n",
    "\n",
    "# For every question\n",
    "#index, row in df.iterrows()\n",
    "# for idx, q in high_level_questions.iterrows():\n",
    "#     print('Working on the question %s' % q.Id)\n",
    "#     # Extract every answer\n",
    "#     answers = all_posts[(all_posts.ParentId == q.Id) & (all_posts.Score > ANSWER_SCORE)]\n",
    "    \n",
    "\n",
    "#     # Filter the code in the answer by using the <code> tag\n",
    "#     unformatted_codes = []\n",
    "#     for idx, a in answers.iterrows():\n",
    "#         soup = BeautifulSoup(a['Body'], \"html.parser\")\n",
    "#         unformatted_codes.extend(soup.find_all('code'))\n",
    "    \n",
    "#     # Format from HTML to text\n",
    "#     codes = [i.get_text() for i in unformatted_codes]\n",
    "    \n",
    "#     # Write it to a file\n",
    "#     file = io.open(os.path.join('..', 'data', 'extracted-code',  str(q.Id)), 'a', encoding='ISO-8859-1')\n",
    "#     for code in codes:\n",
    "#         file.write(\"%s\\n\\n------------------------------------------------------------------\\n\\n\" % code)\n",
    "#     file.close()                  \n",
    "\n",
    "\n",
    "\n"
   ]
  },
  {
   "cell_type": "code",
   "execution_count": 4,
   "metadata": {
    "collapsed": true
   },
   "outputs": [],
   "source": [
    "from bs4 import BeautifulSoup\n",
    "import io\n",
    "\n",
    "\n",
    "# For every question\n",
    "#index, row in df.iterrows()\n",
    "\n",
    "def extract_code(df):\n",
    "\n",
    "    soup = BeautifulSoup(df['Body'], \"html.parser\")\n",
    "    unformatted_codes = soup.find_all('code')\n",
    "\n",
    "    # Format from HTML to text\n",
    "    codes = [i.get_text() for i in unformatted_codes]\n",
    "    return codes\n",
    "    \n",
    "\n",
    "# Extract Code\n",
    "dataset['Code'] = dataset.apply(extract_code, axis=1)\n",
    "\n",
    "# Save to CSV\n",
    "dataset_csv = dataset[['AnswerCount',\n",
    "                                                 'CommentCount',\n",
    "                                                 'Id',\n",
    "                                                 'ParentId','PostTypeId','Score','Tags','Title',\n",
    "                                                 'ViewCount','Code']]\n",
    "\n",
    "dataset_csv.to_csv(os.path.join('..', 'data', 'pandas-code-dataset.csv'), encoding='ISO-8859-1', sep=\";\", doublequote=True)\n",
    "# #high_level_questions_csv"
   ]
  }
 ],
 "metadata": {
  "kernelspec": {
   "display_name": "Python 3",
   "language": "python",
   "name": "python3"
  },
  "language_info": {
   "codemirror_mode": {
    "name": "ipython",
    "version": 3
   },
   "file_extension": ".py",
   "mimetype": "text/x-python",
   "name": "python",
   "nbconvert_exporter": "python",
   "pygments_lexer": "ipython3",
   "version": "3.6.1"
  }
 },
 "nbformat": 4,
 "nbformat_minor": 2
}
