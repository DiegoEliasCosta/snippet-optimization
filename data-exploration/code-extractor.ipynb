{
 "cells": [
  {
   "cell_type": "code",
   "execution_count": 1,
   "metadata": {
    "collapsed": true
   },
   "outputs": [],
   "source": [
    "import pandas as pd\n",
    "import os\n",
    "from bs4 import BeautifulSoup\n",
    "import io\n",
    "\n",
    "\n",
    "file = os.path.join('..','data', 'pandas-post-dataset.csv')\n",
    "\n",
    "\n",
    "dataset = pd.read_csv(file, encoding='ISO-8859-1', error_bad_lines=False, sep=\";\")\n",
    "\n"
   ]
  },
  {
   "cell_type": "code",
   "execution_count": 2,
   "metadata": {
    "collapsed": true
   },
   "outputs": [],
   "source": [
    "\n",
    "\n",
    "\n",
    "# For every question\n",
    "#index, row in df.iterrows()\n",
    "# for idx, q in high_level_questions.iterrows():\n",
    "#     print('Working on the question %s' % q.Id)\n",
    "#     # Extract every answer\n",
    "#     answers = all_posts[(all_posts.ParentId == q.Id) & (all_posts.Score > ANSWER_SCORE)]\n",
    "    \n",
    "\n",
    "#     # Filter the code in the answer by using the <code> tag\n",
    "#     unformatted_codes = []\n",
    "#     for idx, a in answers.iterrows():\n",
    "#         soup = BeautifulSoup(a['Body'], \"html.parser\")\n",
    "#         unformatted_codes.extend(soup.find_all('code'))\n",
    "    \n",
    "#     # Format from HTML to text\n",
    "#     codes = [i.get_text() for i in unformatted_codes]\n",
    "    \n",
    "#     # Write it to a file\n",
    "#     file = io.open(os.path.join('..', 'data', 'extracted-code',  str(q.Id)), 'a', encoding='ISO-8859-1')\n",
    "#     for code in codes:\n",
    "#         file.write(\"%s\\n\\n------------------------------------------------------------------\\n\\n\" % code)\n",
    "#     file.close()                  \n",
    "\n",
    "\n",
    "\n"
   ]
  },
  {
   "cell_type": "code",
   "execution_count": 7,
   "metadata": {},
   "outputs": [
    {
     "data": {
      "text/plain": [
       "['df',\n",
       " 'pandas.read_table',\n",
       " 'colA',\n",
       " 'df_greater_than10 = df[df[\"\"colA\"\"] > 10]\\n',\n",
       " 'df',\n",
       " 'colA',\n",
       " 'colB']"
      ]
     },
     "execution_count": 7,
     "metadata": {},
     "output_type": "execute_result"
    }
   ],
   "source": [
    "text3 = \"\"\"\n",
    "    <p>I have a dataframe <code>df</code> in pandas that was built using <code>pandas.read_table</code> from a csv file. The dataframe has several columns and it is indexed by one of the columns (which is unique, in that each row has a unique value for that column used for indexing.) </p>\n",
    "\n",
    "<p>How can I select rows of my dataframe based on a \"\"complex\"\" filter applied to multiple columns? I can easily select out the slice of the dataframe where column <code>colA</code> is greater than 10 for example:</p>\n",
    "\n",
    "<pre><code>df_greater_than10 = df[df[\"\"colA\"\"] &gt; 10]\n",
    "</code></pre>\n",
    "\n",
    "<p>But what if I wanted a filter like: select the slice of <code>df</code> where <em>any</em> of the columns are greater than 10? </p>\n",
    "\n",
    "<p>Or where the value for <code>colA</code> is greater than 10 but the value for <code>colB</code> is less than 5?</p>\n",
    "\n",
    "<p>How are these implemented in pandas?\n",
    "Thanks.</p>\n",
    "\"\"\"\n",
    "\n",
    "def extract_tagged_code(text, tag):\n",
    "    \n",
    "    soup = BeautifulSoup(text, \"html.parser\")\n",
    "    \n",
    "    # Get the tag\n",
    "    tagged = soup.find_all(tag)\n",
    "    \n",
    "    # Remove None Objects\n",
    "#     tagged = [x for x in tagged if x is not None]\n",
    "    \n",
    "    # Format from HTML to text\n",
    "    return [i.get_text() for i in tagged]\n",
    "\n",
    "extract_tagged_code(text3, 'pre')\n",
    "extract_tagged_code(text3, 'code')\n"
   ]
  },
  {
   "cell_type": "code",
   "execution_count": 5,
   "metadata": {},
   "outputs": [],
   "source": [
    "def extract_code(df):\n",
    "    \"\"\"\n",
    "        Extract only code with <pre><code> combined tag\n",
    "    \"\"\"\n",
    "    df['Code'] = extract_tagged_code(df['Body'], 'pre')\n",
    "    return df\n",
    "\n",
    "\n",
    "def extract_all_code(df):\n",
    "    \"\"\"\n",
    "        Extract code with <code> combined tag\n",
    "    \"\"\"\n",
    "    df['AllCode'] = extract_tagged_code(df['Body'], 'code')\n",
    "    return df\n",
    "\n",
    "# def extract_all_code(df):\n",
    "#     \"\"\"\n",
    "#         Extract every code with <code> tag\n",
    "#     \"\"\"\n",
    "#     soup = BeautifulSoup(df['Body'], \"html.parser\")\n",
    "    \n",
    "#     # Get the <code> tag\n",
    "#     unformatted_codes = soup.find_all('code')\n",
    "    \n",
    "#     # Format from HTML to text\n",
    "#     df['Code'] = [i.get_text() for i in unformatted_codes]\n",
    "#     return df\n",
    "    \n",
    "\n",
    "# Extract Code\n",
    "dataset = dataset.apply(extract_code, axis=1)\n",
    "dataset = dataset.apply(extract_all_code, axis=1)\n",
    "\n",
    "# Save to CSV\n",
    "dataset_csv = dataset[['AnswerCount',\n",
    "                                                 'CommentCount',\n",
    "                                                 'Id',\n",
    "                                                 'ParentId','PostTypeId','Score','Tags','Title', 'Body',\n",
    "                                                 'ViewCount','Code', 'AllCode']]\n",
    "\n",
    "dataset_csv.to_csv(os.path.join('..', 'data', 'pandas-code-dataset.csv'), encoding='ISO-8859-1', sep=\";\", doublequote=True)\n",
    "# #high_level_questions_csv"
   ]
  }
 ],
 "metadata": {
  "kernelspec": {
   "display_name": "Python 3",
   "language": "python",
   "name": "python3"
  },
  "language_info": {
   "codemirror_mode": {
    "name": "ipython",
    "version": 3
   },
   "file_extension": ".py",
   "mimetype": "text/x-python",
   "name": "python",
   "nbconvert_exporter": "python",
   "pygments_lexer": "ipython3",
   "version": "3.6.1"
  }
 },
 "nbformat": 4,
 "nbformat_minor": 2
}
