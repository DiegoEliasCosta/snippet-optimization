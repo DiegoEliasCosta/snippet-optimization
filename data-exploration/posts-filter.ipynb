{
 "cells": [
  {
   "cell_type": "markdown",
   "metadata": {},
   "source": [
    "#### Import Parent Module"
   ]
  },
  {
   "cell_type": "code",
   "execution_count": 2,
   "metadata": {
    "collapsed": true
   },
   "outputs": [],
   "source": [
    "import os\n",
    "import sys\n",
    "module_path = os.path.abspath(os.path.join('..'))\n",
    "if module_path not in sys.path:\n",
    "    sys.path.append(module_path)\n",
    "    \n",
    "from jupyter_notebook import load_parameters"
   ]
  },
  {
   "cell_type": "code",
   "execution_count": 3,
   "metadata": {
    "collapsed": true
   },
   "outputs": [],
   "source": [
    "import pandas as pd\n",
    "import os\n",
    "\n"
   ]
  },
  {
   "cell_type": "markdown",
   "metadata": {},
   "source": [
    "#### Read LUIGI Task parameters "
   ]
  },
  {
   "cell_type": "code",
   "execution_count": null,
   "metadata": {
    "collapsed": true
   },
   "outputs": [],
   "source": [
    "pars = load_parameters()\n",
    "\n",
    "input_file = pars.get('input_file')\n",
    "output_file = pars.get('output')\n",
    "\n",
    "questions_score = pars.get('questions_score')\n",
    "answers_score = pars.get('answers_score')"
   ]
  },
  {
   "cell_type": "code",
   "execution_count": null,
   "metadata": {
    "collapsed": true
   },
   "outputs": [],
   "source": [
    "all_posts = pd.read_csv(input_file, encoding='ISO-8859-1', error_bad_lines=False, sep=';')\n",
    "print('Amount of posts extracted = %d' % len(all_posts))"
   ]
  },
  {
   "cell_type": "markdown",
   "metadata": {},
   "source": [
    "#### Filter questions and answers based on the specified parameters"
   ]
  },
  {
   "cell_type": "code",
   "execution_count": 9,
   "metadata": {},
   "outputs": [
    {
     "name": "stdout",
     "output_type": "stream",
     "text": [
      "Amount of questions extracted = 50449\n"
     ]
    }
   ],
   "source": [
    "questions = all_posts[all_posts.PostTypeId == 1]\n",
    "questions\n",
    "print('Amount of questions extracted = %d' % len(questions))\n",
    "\n",
    "# Filtering questions with more than 10 Score - Higher Quality\n",
    "high_level_questions = questions[questions.Score > questions_score]\n",
    "print('# questions with Score > %d = %d' % (questions_score, len(high_level_questions)))\n",
    "\n",
    "\n",
    "questionIds = high_level_questions.Id\n",
    "allanswers = all_posts[all_posts.ParentId.isin(questionIds)]\n",
    "print('All Answers = %d' % len(allanswers))\n",
    "\n",
    "answers = all_posts[(all_posts.ParentId.isin(questionIds)) & (all_posts.Score > answers_score)]\n",
    "print('Answers with Score > %d = %d' % (answers_score, len(answers)))"
   ]
  },
  {
   "cell_type": "code",
   "execution_count": 4,
   "metadata": {},
   "outputs": [
    {
     "ename": "NameError",
     "evalue": "name 'high_level_questions' is not defined",
     "output_type": "error",
     "traceback": [
      "\u001b[1;31m---------------------------------------------------------------------------\u001b[0m",
      "\u001b[1;31mNameError\u001b[0m                                 Traceback (most recent call last)",
      "\u001b[1;32m<ipython-input-4-84c627455904>\u001b[0m in \u001b[0;36m<module>\u001b[1;34m()\u001b[0m\n\u001b[0;32m      1\u001b[0m \u001b[1;31m# Questions + Answers\u001b[0m\u001b[1;33m\u001b[0m\u001b[1;33m\u001b[0m\u001b[0m\n\u001b[1;32m----> 2\u001b[1;33m \u001b[0mdataset\u001b[0m \u001b[1;33m=\u001b[0m \u001b[0mhigh_level_questions\u001b[0m\u001b[1;33m\u001b[0m\u001b[0m\n\u001b[0m\u001b[0;32m      3\u001b[0m \u001b[0mdataset\u001b[0m \u001b[1;33m=\u001b[0m \u001b[0mdataset\u001b[0m\u001b[1;33m.\u001b[0m\u001b[0mappend\u001b[0m\u001b[1;33m(\u001b[0m\u001b[0manswers\u001b[0m\u001b[1;33m)\u001b[0m\u001b[1;33m\u001b[0m\u001b[0m\n",
      "\u001b[1;31mNameError\u001b[0m: name 'high_level_questions' is not defined"
     ]
    }
   ],
   "source": [
    "# Questions + Answers\n",
    "dataset = high_level_questions\n",
    "dataset = dataset.append(answers)"
   ]
  },
  {
   "cell_type": "code",
   "execution_count": 13,
   "metadata": {
    "collapsed": true
   },
   "outputs": [],
   "source": [
    "dataset.to_csv(output_file, encoding='ISO-8859-1', sep=\";\", doublequote=True, index=False)"
   ]
  }
 ],
 "metadata": {
  "kernelspec": {
   "display_name": "Python 3",
   "language": "python",
   "name": "python3"
  },
  "language_info": {
   "codemirror_mode": {
    "name": "ipython",
    "version": 3
   },
   "file_extension": ".py",
   "mimetype": "text/x-python",
   "name": "python",
   "nbconvert_exporter": "python",
   "pygments_lexer": "ipython3",
   "version": "3.6.1"
  }
 },
 "nbformat": 4,
 "nbformat_minor": 1
}
