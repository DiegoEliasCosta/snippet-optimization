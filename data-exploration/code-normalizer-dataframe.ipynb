{
 "cells": [
  {
   "cell_type": "markdown",
   "metadata": {},
   "source": [
    "#### Import Parent Module"
   ]
  },
  {
   "cell_type": "code",
   "execution_count": null,
   "metadata": {
    "collapsed": true
   },
   "outputs": [],
   "source": [
    "import os\n",
    "import sys\n",
    "module_path = os.path.abspath(os.path.join('..'))\n",
    "if module_path not in sys.path:\n",
    "    sys.path.append(module_path)\n",
    "    \n",
    "from jupyter_notebook import load_parameters"
   ]
  },
  {
   "cell_type": "code",
   "execution_count": null,
   "metadata": {
    "collapsed": true
   },
   "outputs": [],
   "source": [
    "import pandas as pd\n",
    "import os\n",
    "import ast\n",
    "import pyflakes"
   ]
  },
  {
   "cell_type": "markdown",
   "metadata": {},
   "source": [
    "#### LUIGI Parameters"
   ]
  },
  {
   "cell_type": "code",
   "execution_count": null,
   "metadata": {
    "collapsed": true
   },
   "outputs": [],
   "source": [
    "pars = load_parameters()\n",
    "\n",
    "input_path = pars.get('input')\n",
    "output_file = pars.get('output')\n",
    "\n",
    "input_col = pars.get('input_col')\n",
    "output_col = pars.get('output_col')"
   ]
  },
  {
   "cell_type": "code",
   "execution_count": null,
   "metadata": {
    "collapsed": true
   },
   "outputs": [],
   "source": [
    "dataset = pd.read_csv(input_path, encoding='ISO-8859-1', error_bad_lines=False, sep=\";\")"
   ]
  },
  {
   "cell_type": "markdown",
   "metadata": {},
   "source": [
    "#### Normalization Method: Defining most commonly used Dataframe variables\n",
    "\n",
    "\n"
   ]
  },
  {
   "cell_type": "code",
   "execution_count": null,
   "metadata": {
    "collapsed": true
   },
   "outputs": [],
   "source": [
    "def normalizeDataFrameDefinition(post, col):\n",
    "    strcodes = post[col]\n",
    "    codes = ast.literal_eval(strcodes)\n",
    "    processed = []\n",
    "    normalized = False\n",
    "    for code in codes:\n",
    "        \n",
    "        if \"df\" in code and \"df =\" not in code:\n",
    "            code = \"df = pd.DataFrame()\\n\" + code\n",
    "            normalized = True\n",
    "            \n",
    "        if \"df1\" in code and \"df1 =\" not in code:\n",
    "            code = \"df1 = pd.DataFrame()\\n\" + code\n",
    "            normalized = True\n",
    "            \n",
    "        if \"df2\" in code and \"df2 =\" not in code:\n",
    "            code = \"df2 = pd.DataFrame()\\n\" + code\n",
    "            normalized = True\n",
    "            \n",
    "        if \"data\" in code and \"data =\" not in code:\n",
    "            code = \"data = pd.DataFrame()\\n\" + code\n",
    "            normalized = True\n",
    "            \n",
    "        if \"data1\" in code and \"data1 =\" not in code:\n",
    "            code = \"data1 = pd.DataFrame()\\n\" + code\n",
    "            normalized = True\n",
    "            \n",
    "        if \"data2\" in code and \"data2 =\" not in code:\n",
    "            code = \"data2 = pd.DataFrame()\\n\" + code\n",
    "            normalized = True \n",
    "            \n",
    "        if normalized:\n",
    "            code = \"import pandas as pd\\n\" + code\n",
    "            \n",
    "        processed.append(code)\n",
    "        \n",
    "    post[output_col] = processed\n",
    "    post[output_col + 'Normalized'] = normalized\n",
    "    return post\n"
   ]
  },
  {
   "cell_type": "code",
   "execution_count": null,
   "metadata": {
    "collapsed": true
   },
   "outputs": [],
   "source": [
    "normalized_dataset = dataset.apply(normalizeDataFrameDefinition, axis=1, args=(input_col,))"
   ]
  },
  {
   "cell_type": "markdown",
   "metadata": {},
   "source": [
    "#### Saving to disk"
   ]
  },
  {
   "cell_type": "code",
   "execution_count": null,
   "metadata": {
    "collapsed": true
   },
   "outputs": [],
   "source": [
    "normalized_dataset.to_csv(output_file, encoding='ISO-8859-1', sep=';', doublequote=True, index=False)"
   ]
  }
 ],
 "metadata": {
  "kernelspec": {
   "display_name": "Python 3",
   "language": "python",
   "name": "python3"
  },
  "language_info": {
   "codemirror_mode": {
    "name": "ipython",
    "version": 3
   },
   "file_extension": ".py",
   "mimetype": "text/x-python",
   "name": "python",
   "nbconvert_exporter": "python",
   "pygments_lexer": "ipython3",
   "version": "3.6.1"
  }
 },
 "nbformat": 4,
 "nbformat_minor": 2
}
