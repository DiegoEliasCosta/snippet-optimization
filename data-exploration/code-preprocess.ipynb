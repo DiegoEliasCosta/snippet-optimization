{
 "cells": [
  {
   "cell_type": "markdown",
   "metadata": {},
   "source": [
    "#### Import Parent Module"
   ]
  },
  {
   "cell_type": "code",
   "execution_count": null,
   "metadata": {
    "collapsed": true
   },
   "outputs": [],
   "source": [
    "import os\n",
    "import sys\n",
    "module_path = os.path.abspath(os.path.join('..'))\n",
    "if module_path not in sys.path:\n",
    "    sys.path.append(module_path)\n",
    "    \n",
    "from jupyter_notebook import load_parameters"
   ]
  },
  {
   "cell_type": "code",
   "execution_count": 2,
   "metadata": {
    "collapsed": true
   },
   "outputs": [],
   "source": [
    "import pandas as pd\n",
    "import os\n"
   ]
  },
  {
   "cell_type": "markdown",
   "metadata": {},
   "source": [
    "#### Read Luigi Parameters"
   ]
  },
  {
   "cell_type": "code",
   "execution_count": null,
   "metadata": {
    "collapsed": true
   },
   "outputs": [],
   "source": [
    "pars = load_parameters()\n",
    "\n",
    "input_path = pars.get('input')\n",
    "output_file = pars.get('output')\n",
    "\n",
    "input_col = pars.get('input_col')\n",
    "output_col = pars.get('output_col')"
   ]
  },
  {
   "cell_type": "code",
   "execution_count": null,
   "metadata": {
    "collapsed": true
   },
   "outputs": [],
   "source": [
    "dataset = pd.read_csv(input_path, encoding='ISO-8859-1', error_bad_lines=False, sep=\";\")\n",
    "print('Amount of entries in the dataset = %d' % len(dataset))"
   ]
  },
  {
   "cell_type": "markdown",
   "metadata": {},
   "source": [
    "#### Process Terminal-Like Code\n",
    "The goal of this function is to remove tags related ot notebook or terminal-like codes\n",
    "\n",
    "Example:\n",
    "```python\n",
    "In [11]: df\n",
    "df.append()\n",
    "Out[11]: \n",
    "A B C D \n",
    "2000-01-03 -0.59885 -0.18141 -0.68828 -0.77572\n",
    "2000-01-04 0.83935 0.15993 0.95911 -1.12959\n",
    "\n",
    "In [12]: df[(df.values > 1.5).any(1)]\n",
    "Out[12]: \n",
    "A B C D \n",
    "2000-01-05 2.8021 -0.1086 -1.62114 -0.2017\n",
    "2000-01-06 0.7167 -0.2671 1.36029 1.7425\n",
    "```\n",
    "\n",
    "Should extract only:\n",
    "```python\n",
    "df\n",
    "df.append()\n",
    "df[(df.values > 1.5).any(1)]\n",
    "```\n"
   ]
  },
  {
   "cell_type": "code",
   "execution_count": 2,
   "metadata": {
    "collapsed": true
   },
   "outputs": [],
   "source": [
    "import re\n",
    "\n",
    "def preprocessTerminalLikeCode(code):\n",
    "    terminalRegex='In \\[.+?\\]:(.*?)Out\\[.+?\\]'\n",
    "    sequence = re.compile(terminalRegex, re.DOTALL)\n",
    "    terminalCode = sequence.findall(code)\n",
    "    return [i.lstrip() for i in terminalCode]"
   ]
  },
  {
   "cell_type": "markdown",
   "metadata": {},
   "source": [
    "#### Remove any non-parseable python line\n",
    "\n",
    "Goal of this function is to infer valid python code from its parseability.\n",
    "\n",
    "For Example, in the following code:\n",
    "```python\n",
    "df\n",
    "df.append()\n",
    "\n",
    "A B C D \n",
    "2000-01-03 -0.59885 -0.18141 -0.68828 -0.77572\n",
    "2000-01-04 0.83935 0.15993 0.95911 -1.12959\n",
    "\n",
    "df[(df.values > 1.5).any(1)]\n",
    " \n",
    "A B C D \n",
    "2000-01-05 2.8021 -0.1086 -1.62114 -0.2017\n",
    "2000-01-06 0.7167 -0.2671 1.36029 1.7425\n",
    "```\n",
    "\n",
    "The function extracts only the valid python code lines:\n",
    "```python\n",
    "df\n",
    "df.append()\n",
    "df[(df.values > 1.5).any(1)]\n",
    "```"
   ]
  },
  {
   "cell_type": "code",
   "execution_count": 3,
   "metadata": {
    "collapsed": true
   },
   "outputs": [],
   "source": [
    "import ast\n",
    "\n",
    "def preprocessOutputCode(code):\n",
    "    lines = code.split('\\n')\n",
    "    preprocessed = []\n",
    "    for l in lines:\n",
    "        try:\n",
    "            ast.parse(l)\n",
    "            preprocessed.append(l)\n",
    "        except:\n",
    "            # Ignore\n",
    "            pass\n",
    "    return '\\n'.join(preprocessed)\n",
    "            \n"
   ]
  },
  {
   "cell_type": "markdown",
   "metadata": {},
   "source": [
    "#### Pre-process the dataset\n",
    "\n",
    "Use the above mentioned methods to preprocess the dataset on the column ```input_col``` and output the dataframe on the column ```output_col```\n"
   ]
  },
  {
   "cell_type": "code",
   "execution_count": 4,
   "metadata": {
    "collapsed": true
   },
   "outputs": [],
   "source": [
    "import ast\n",
    "\n",
    "def preprocessCode(code):\n",
    "    # First Method for pre-processing\n",
    "    terminalLikeCode = preprocessTerminalLikeCode(code)\n",
    "    if terminalLikeCode:\n",
    "        code = ''.join(terminalLikeCode)\n",
    "        \n",
    "    code = preprocessOutputCode(code)\n",
    "    return code\n",
    "    \n",
    "def preprocessPost(post, col):\n",
    "    strcodes = post[col]\n",
    "    # Get the list of codes\n",
    "    codes = ast.literal_eval(strcodes)\n",
    "    processed = []\n",
    "    for code in codes:\n",
    "        processed.append(preprocessCode(code))\n",
    "    post[output_col] = processed\n",
    "    return post\n",
    "\n",
    "\n",
    "processed_dataset = dataset.apply(preprocessPost, axis=1, args=(input_col,))"
   ]
  },
  {
   "cell_type": "code",
   "execution_count": null,
   "metadata": {
    "collapsed": true
   },
   "outputs": [],
   "source": [
    "processed_dataset.to_csv(output_file, encoding='ISO-8859-1', sep=';', doublequote=True, index=False)"
   ]
  }
 ],
 "metadata": {
  "kernelspec": {
   "display_name": "Python 3",
   "language": "python",
   "name": "python3"
  },
  "language_info": {
   "codemirror_mode": {
    "name": "ipython",
    "version": 3
   },
   "file_extension": ".py",
   "mimetype": "text/x-python",
   "name": "python",
   "nbconvert_exporter": "python",
   "pygments_lexer": "ipython3",
   "version": "3.6.3"
  }
 },
 "nbformat": 4,
 "nbformat_minor": 2
}
